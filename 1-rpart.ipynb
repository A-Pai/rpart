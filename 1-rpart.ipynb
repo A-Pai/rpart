{
 "cells": [
  {
   "cell_type": "markdown",
   "metadata": {},
   "source": [
    "rpart {rpart}\n",
    "\n",
    "# rpart: Recursive Partitioning and Regression Trees\n",
    "\n",
    "此函数是 rpart 包的主干函数，用法丰富，功能强大，本教程以知识点多覆盖、少重复，由简入难的方式展开，首先依据官方文档描述函数，然后通过实例介绍：\n",
    "\n",
    "1. 数据平衡、代价不敏感分类问题：关注生成决策树，cp 怎样影响分类性能以及怎样剪枝生成最优决策树，怎样画出、判读决策树，control 及 parms 包含的参数，怎样度量和输出变量的重要性，怎么计算“Surrogate splits”以及“improvement”。\n",
    "1. 回归问题：相比较分类，回归问题比较简单，关注关注 cp 怎样剪枝以及怎样生成最优决策树，怎样画出决策树以及 control 及 parms 参数的用法，怎样度量和输出变量的重要性。\n",
    "1. 代价敏感分类问题：这是分类问题的一个重要方面，重点关注怎样设置损失矩阵、怎样依据损失矩阵生成决策树。\n",
    "1. Poisson 回归：将 Poisson 分布值作为回归的目标。\n",
    "1. 生存分析：一类特殊的 Possion 回归。\n",
    "1. 缺失值问题：生成和应用决策树时自变量值缺失如何应对。\n",
    "\n",
    "为避免翻译不准确，有的地方直接使用或配以官方英文介绍。\n",
    "\n",
    "总体上，请关注 rpart 决策树的以下性能：\n",
    "\n",
    "1. 决策机理清晰--可清晰看到其推理过程。\n",
    "2. 分类和回归的自变量既允许连续取值，也允许离散取值。\n",
    "3. 无需自变量之间相互独立。\n",
    "4. 方便评价自变量的重要性。\n",
    "5. 方便实现代价敏感分类。\n",
    "6. 有效地应对自变量缺失。"
   ]
  },
  {
   "cell_type": "markdown",
   "metadata": {
    "editable": true,
    "slideshow": {
     "slide_type": ""
    },
    "tags": []
   },
   "source": [
    "算法参见：\n",
    "\n",
    "- https://zhuanlan.zhihu.com/p/85731206\n"
   ]
  },
  {
   "cell_type": "markdown",
   "metadata": {},
   "source": [
    "### Description\n",
    "\n",
    "Fit a `rpart` model\n"
   ]
  },
  {
   "cell_type": "markdown",
   "metadata": {},
   "source": [
    "### Usage\n",
    "\n",
    "```r\n",
    "rpart(formula, data, weights, subset, na.action = na.rpart, method,\n",
    "      model = FALSE, x = FALSE, y = TRUE, parms, control, cost, ...)\n",
    "\n",
    "```\n"
   ]
  },
  {
   "attachments": {},
   "cell_type": "markdown",
   "metadata": {},
   "source": [
    "### Arguments\n",
    "\n",
    "|             |                                                                                                                                                                                                                                                                                                                                                                                                                                                                                                                                                                                                                                                                                                                                                                                          |\n",
    "| ----------- | ---------------------------------------------------------------------------------------------------------------------------------------------------------------------------------------------------------------------------------------------------------------------------------------------------------------------------------------------------------------------------------------------------------------------------------------------------------------------------------------------------------------------------------------------------------------------------------------------------------------------------------------------------------------------------------------------------------------------------------------------------------------------------------------- |\n",
    "| `formula`   | a [formula](http://127.0.0.1:42851/help/library/rpart/help/formula), with a response but no interaction terms. If this is a data frame, it is taken as the model frame (see `model.frame).`                                                                                                                                                                                                                                                                                                                                                                                                                                                                                                                                                                                              |\n",
    "| `data`      | an optional data frame in which to interpret the variables named in the formula.                                                                                                                                                                                                                                                                                                                                                                                                                                                                                                                                                                                                                                                                                                         |\n",
    "| `weights`   | optional case weights.                                                                                                                                                                                                                                                                                                                                                                                                                                                                                                                                                                                                                                                                                                                                                                   |\n",
    "| `subset`    | optional expression saying that only a subset of the rows of the data should be used in the fit.                                                                                                                                                                                                                                                                                                                                                                                                                                                                                                                                                                                                                                                                                         |\n",
    "| `na.action` | the default action deletes all observations for which `y` is missing, but keeps those in which one or more predictors are missing. 默认的办法是删除因变量缺失的观测而保留自变量缺失的观测。                                                                                                                                                                                                                                                                                                                                                                                                                                                                                                                                                                                              |\n",
    "| `method`    | one of `\"anova\"`, `\"poisson\"`, `\"class\"` or `\"exp\"`. If `method` is missing then the routine tries to make an intelligent guess. If `y` is a survival object, then `method = \"exp\"` is assumed, if `y` has 2 columns then `method = \"poisson\"` is assumed, if `y` is a factor then `method = \"class\"` is assumed, otherwise `method = \"anova\"` is assumed. It is wisest to specify the method directly, especially as more criteria may added to the function in future.Alternatively, `method` can be a list of functions named `init`, `split` and `eval`. Examples are given in the file ‘tests/usersplits.R’ in the sources, and in the vignettes ‘User Written Split Functions’. 参数 method 有四种取值：程序会根据因变量的类型自动选择方法： 连续型 ⇒“anova”，做回归；离散型 ⇒“class”，做分类；计数型（泊松过程）⇒“poisson”； 生存分析型 ⇒“exp”。                                                                                                   |\n",
    "| `model`     | if logical: keep a copy of the model frame in the result? If the input value for `model` is a model frame (likely from an earlier call to the `rpart` function), then this frame is used rather than constructing new data.                                                                                                                                                                                                                                                                                                                                                                                                                                                                                                                                                              |\n",
    "| `x`         | keep a copy of the `x` matrix in the result.                                                                                                                                                                                                                                                                                                                                                                                                                                                                                                                                                                                                                                                                                                                                             |\n",
    "| `y`         | keep a copy of the dependent variable in the result. If missing and `model` is supplied this defaults to `FALSE`.                                                                                                                                                                                                                                                                                                                                                                                                                                                                                                                                                                                                                                                                        |\n",
    "| `parms`     | optional parameters for the splitting function. Anova splitting has no parameters. Poisson splitting has a single parameter, the coefficient of variation of the prior distribution on the rates. The default value is 1. Exponential splitting has the same parameter as Poisson. For classification splitting, the list can contain any of: the vector of prior probabilities (component `prior`), the loss matrix (component `loss`) or the splitting index (component `split`). The priors must be positive and sum to 1. The loss matrix must have zeros on the diagonal and positive off-diagonal elements. The splitting index can be `gini` or `information`. The default priors are proportional to the data counts, the losses default to 1, and the split defaults to `gini`. |\n",
    "| `control`   | a list of options that control details of the `rpart` algorithm. See `rpart.control`.                                                                                                                                                                                                                                                                                                                                                                                                                                                                                                                                                                                                                                                                                                    |\n",
    "| `cost`      | a vector of non-negative costs, one for each variable in the model. Defaults to one for all variables. These are scalings to be applied when considering splits, so the improvement on splitting on a variable is divided by its cost in deciding which split to choose.                                                                                                                                                                                                                                                                                                                                                                                                                                                                                                                 |\n",
    "| `...`       | arguments to `rpart.control` may also be specified in the call to `rpart`. They are checked against the list of valid arguments.                                                                                                                                                                                                                                                                                                                                                                                                                                                                                                                                                                                                                                                         |\n"
   ]
  },
  {
   "cell_type": "markdown",
   "metadata": {},
   "source": [
    "### Details\n",
    "\n",
    "This differs from the `tree` function in S mainly in its handling of surrogate variables. In most details it follows Breiman _et. al_ (1984) quite closely. **R** package **tree** provides a re-implementation of `tree`.\n"
   ]
  },
  {
   "cell_type": "markdown",
   "metadata": {},
   "source": [
    "### Value\n",
    "\n",
    "An object of class `rpart`. See `rpart.object`.\n"
   ]
  },
  {
   "cell_type": "markdown",
   "metadata": {},
   "source": [
    "### References\n",
    "\n",
    "Breiman L., Friedman J. H., Olshen R. A., and Stone, C. J. (1984) _Classification and Regression Trees._ Wadsworth.\n",
    "\n",
    "Therneau, T.M. and E.J. Atkinson. An Introduction to Recursive Partitioning Using the RPART Routines. 2015.\n"
   ]
  },
  {
   "cell_type": "markdown",
   "metadata": {},
   "source": [
    "### See Also\n",
    "\n",
    "```\n",
    "rpart.control`, `rpart.object`, `summary.rpart`, `print.rpart\n",
    "```\n"
   ]
  },
  {
   "attachments": {},
   "cell_type": "markdown",
   "metadata": {},
   "source": [
    "## 算法解析\n",
    "\n",
    "理论参见 https://zhuanlan.zhihu.com/p/139523931\n",
    "\n",
    "\n",
    "1. 在二维平面上直观地观察rpart最优决策树分类和回归的性能；\n",
    "2. 改造的abalone数据集类别平衡、代价不敏感、无缺失值、特征混合取值，是一个简单和较为普通的分类问题，通过此算例了解决策树分类的基本算法：cp表各项值，特别是xerror的含义；观察xerror随cp降低的变化趋势--通过1-SE原则找到最优cp值，构建最优决策树；最后讲解变量重要性评价方式。\n",
    "3. $friedman1$数据集 ，是一个简单和较为普通的分类问题，通过此算例了解决策树分类的基本算法：cp表各项值，特别是xerror的含义；观察xerror随cp降低的变化趋势--通过1-SE原则找到最优cp值，构建最优决策树；通过训练集和测试集错判率的cp曲线验证1-SE最优cp值的准确数，最后讲解变量重要性评价方式。"
   ]
  },
  {
   "cell_type": "markdown",
   "metadata": {},
   "source": [
    "### 直观地观察rpart决策树的分类界线"
   ]
  },
  {
   "cell_type": "code",
   "execution_count": null,
   "metadata": {
    "tags": [],
    "vscode": {
     "languageId": "r"
    }
   },
   "outputs": [],
   "source": [
    "library(pacman)\n",
    "\n",
    "options(warn = -1) # 忽略一切警告\n",
    "options(\"width\" = 140) # 充分利用打印宽度\n",
    "options(repr.plot.width = 15, repr.plot.height = 10) # 满幅\n",
    "\n",
    "p_load(rpart)\n",
    "p_load(skimr)\n",
    "s <- skim_tee"
   ]
  },
  {
   "cell_type": "markdown",
   "metadata": {},
   "source": [
    "生成训练集"
   ]
  },
  {
   "cell_type": "code",
   "execution_count": null,
   "metadata": {
    "vscode": {
     "languageId": "r"
    }
   },
   "outputs": [],
   "source": [
    "n <- 10000\n",
    "u <- 10\n",
    "v <- 5\n",
    "\n",
    "set.seed(11)\n",
    "x1 <- sort(runif(n, min = -u, max = u))\n",
    "x2 <- x1 * cos(x1) + v * rnorm(n) - 4\n",
    "y <- 1\n",
    "d0 <- data.frame(y, x1, x2)\n",
    "\n",
    "set.seed(101)\n",
    "x1 <- sort(runif(n, min = -u, max = u))\n",
    "x2 <- x1 * cos(x1) + v * rnorm(n) + 4\n",
    "y <- 2\n",
    "d1 <- data.frame(y, x1, x2)\n",
    "\n",
    "d_tr <- rbind(d0, d1)    \n",
    "d_tr$y <- factor(d_tr$y)    #生成训练集\n",
    "plot(d_tr$x1, d_tr$x2, col = d_tr$y, xlab = \"x1\", ylab = \"x2\", cex = 0.5)\n",
    "x2 <- x1 * cos(x1)\n",
    "lines(x1, x2,col = \"blue\",lwd = 6, lty = 3, add = TRUE)\n",
    "legend(\"bottomright\", \"理论分类界限\", lwd = 6, col = \"blue\", lty = 3,cex = 0.8)\n",
    "grid()"
   ]
  },
  {
   "cell_type": "markdown",
   "metadata": {},
   "source": [
    "得到cp曲线，找到最优cp值"
   ]
  },
  {
   "cell_type": "code",
   "execution_count": null,
   "metadata": {
    "tags": [],
    "vscode": {
     "languageId": "r"
    }
   },
   "outputs": [],
   "source": [
    "set.seed(2) # 固定xstd：xerror具有随机性--数据随机分割的原因\n",
    "ct <- rpart(y ~ ., data = d_tr, method = \"class\", cp = 0)   # cp=0:取消cp在模型复杂度上的约束\n",
    "plotcp(ct)\n",
    "grid()"
   ]
  },
  {
   "cell_type": "markdown",
   "metadata": {},
   "source": [
    "完全树--不剪枝：分类界限复杂"
   ]
  },
  {
   "cell_type": "code",
   "execution_count": null,
   "metadata": {
    "vscode": {
     "languageId": "r"
    }
   },
   "outputs": [],
   "source": [
    "plot(d_tr$x1, d_tr$x2, col = d_tr$y, xlab = \"x1\", ylab = \"x2\", cex = 0.5)\n",
    "\n",
    "ct <- rpart(y ~ ., data = d_tr, method = \"class\", cp = 0)\n",
    "\n",
    "x1 <- seq(min(d_tr$x1), max(d_tr$x1), length = 100)\n",
    "x2 <- seq(min(d_tr$x2), max(d_tr$x2), length = 100)\n",
    "pd <- function(x1, x2){\n",
    "  predict(ct, data.frame(x1, x2), type = \"prob\")[, 1]\n",
    "}\n",
    "\n",
    "z <- outer(x1, x2, FUN = pd)\n",
    "contour(x1, x2, z,\n",
    "  levels = 0.5, drawlabels = FALSE,\n",
    "  lwd = 6, col = \"blue\", add = TRUE\n",
    ") # 画出分类界限--置信度为0.5的等高线\n",
    "\n",
    "legend(\"bottomright\", \"分类界限-完全树\", lwd = 6, col = \"blue\", lty = 1,cex = 0.8)\n",
    "grid()"
   ]
  },
  {
   "cell_type": "markdown",
   "metadata": {},
   "source": [
    "最简树--只有根节点：分类界限极度简单"
   ]
  },
  {
   "cell_type": "code",
   "execution_count": null,
   "metadata": {
    "vscode": {
     "languageId": "r"
    }
   },
   "outputs": [],
   "source": [
    "plot(d_tr$x1, d_tr$x2, col = d_tr$y, xlab = \"x1\", ylab = \"x2\", cex = 0.5)\n",
    "\n",
    "ct <- rpart(y ~ ., data = d_tr, method = \"class\", cp = Inf)\n",
    "x1 <- seq(min(d_tr$x1), max(d_tr$x1), length = 100)\n",
    "x2 <- seq(min(d_tr$x2), max(d_tr$x2), length = 100)\n",
    "\n",
    "pd <- function(x1, x2){\n",
    "  predict(ct, data.frame(x1, x2), type = \"prob\")[, 1]\n",
    "}\n",
    "\n",
    "z <- outer(x1, x2, FUN = pd)\n",
    "contour(x1, x2, z,\n",
    "  levels = 0.5, drawlabels = FALSE,\n",
    "  lwd = 6, col = \"blue\", add = TRUE\n",
    ") # 画出分类界限--置信度为0.5的等高线\n",
    "\n",
    "x2 <- x1 * cos(x1)\n",
    "lines(x1, x2,col = \"blue\",lwd = 6, lty = 3)\n",
    "legend(\"bottomright\", c(\"分类界限-理论\"), lwd = 6, col = \"blue\", lty = 3, cex = 0.8)\n",
    "grid()\n",
    "#此时决策树只有一个根节点--将所有的样本点混为一谈"
   ]
  },
  {
   "cell_type": "markdown",
   "metadata": {},
   "source": [
    "最优树--xerror小且树尽量小：接近理论分类界限"
   ]
  },
  {
   "cell_type": "code",
   "execution_count": null,
   "metadata": {
    "vscode": {
     "languageId": "r"
    }
   },
   "outputs": [],
   "source": [
    "plot(d_tr$x1, d_tr$x2, col = d_tr$y, xlab = \"x1\", ylab = \"x2\", cex = 0.5)\n",
    "\n",
    "ct <- rpart(y ~ ., data = d_tr, method = \"class\", cp = 0.0016)\n",
    "x1 <- seq(min(d_tr$x1), max(d_tr$x1), length = 100)\n",
    "x2 <- seq(min(d_tr$x2), max(d_tr$x2), length = 100)\n",
    "\n",
    "pd <- function(x1, x2){\n",
    "  predict(ct, data.frame(x1, x2), type = \"prob\")[, 1]\n",
    "}\n",
    "\n",
    "z <- outer(x1, x2, FUN = pd)\n",
    "contour(x1, x2, z,\n",
    "  levels = 0.5, drawlabels = FALSE,\n",
    "  lwd = 6, col = \"blue\", add = TRUE\n",
    ") # 画出分类界限--置信度为0.5的等高线\n",
    "\n",
    "x2 <- x1 * cos(x1)\n",
    "lines(x1, x2,col = \"blue\",lwd = 6, lty = 3)\n",
    "legend(\"bottomright\", c(\"分类界限-理论\", \"分类界限-最优决策树\"), lwd = c(6, 6), col = c(\"blue\", \"blue\"), lty = c(3, 1),cex = 0.8)\n",
    "grid()"
   ]
  },
  {
   "cell_type": "markdown",
   "metadata": {},
   "source": [
    "训练集和测试集误差随cp变化曲线"
   ]
  },
  {
   "cell_type": "code",
   "execution_count": null,
   "metadata": {
    "vscode": {
     "languageId": "r"
    }
   },
   "outputs": [],
   "source": [
    "n <- 10000\n",
    "u <- 10\n",
    "v <- 5\n",
    "\n",
    "set.seed(10)\n",
    "x1 <- sort(runif(n, min = -u, max = u))\n",
    "x2 <- x1 * cos(x1) + v * rnorm(n) - 4\n",
    "y <- 1\n",
    "d0 <- data.frame(y, x1, x2)\n",
    "\n",
    "set.seed(100)\n",
    "x1 <- sort(runif(n, min = -u, max = u))\n",
    "x2 <- x1 * cos(x1) + v * rnorm(n) + 4\n",
    "y <- 2\n",
    "d1 <- data.frame(y, x1, x2)\n",
    "\n",
    "d_te <- rbind(d0, d1)    \n",
    "d_te$y <- factor(d_te$y)    #生成测试集\n",
    "\n",
    "ct <- rpart(y ~ ., data = d_tr, method = \"class\", cp = 0)\n",
    "cp <- ct$cp\n",
    "a <- cp[, 1] # cp序列\n",
    "L <- length(a)\n",
    "Cp <- sqrt(a[-L] * a[-1]) # 几何平均值--二个界值之间的值\n",
    "node <- cp[-1, 2] + 1 # 叶节点个数序列\n",
    "\n",
    "error_train <- c()\n",
    "error_test <- c()\n",
    "\n",
    "for (c in Cp) # 依次画出各个cp下的决策树，计算当时的训练集和测试集错误率\n",
    "{\n",
    "  ct <- rpart(y ~ ., data = d_tr, method = \"class\", cp = c)\n",
    "  # rpart.plot(twf,main=paste('CP=',round(c,4)))    #当前cp值对应的决策树\n",
    "\n",
    "  pred_tr <- predict(ct, d_tr, type = \"class\")\n",
    "  error_train <- c(error_train, mean(pred_tr != d_tr$y))\n",
    "\n",
    "  pred_te <- predict(ct, d_te, type = \"class\")\n",
    "  error_test <- c(error_test, mean(pred_te != d_te$y))\n",
    "}\n",
    "\n",
    "p_load(plotly)\n",
    "\n",
    "fig <- plot_ly(x = Cp) %>%\n",
    "  add_trace(y = error_train, type = \"scatter\", name = \"train set\", color = I(\"black\"), mode = \"lines+markers\") %>%\n",
    "  add_trace(y = error_test, type = \"scatter\", name = \"test  set\", color = I(\"red\"), mode = \"lines+markers\") %>%\n",
    "  layout(\n",
    "    title = \"Error curves of train and test set\",\n",
    "    xaxis = list(title = \"cp\"),\n",
    "    yaxis = list(title = \"error\")\n",
    "  )\n",
    "fig\n",
    "\n",
    "\n",
    "cat(\"\\n\\n\")\n",
    "\n",
    "fig <- plot_ly(x = node) %>%\n",
    "  add_trace(y = error_train, type = \"scatter\", name = \"train set\", color = I(\"black\"), mode = \"lines+markers\") %>%\n",
    "  add_trace(y = error_test, type = \"scatter\", name = \"test  set\", color = I(\"red\"), mode = \"lines+markers\") %>%\n",
    "  layout(\n",
    "    title = \"Error curves of train and test set\",\n",
    "    xaxis = list(title = \"number of leaf node\"),\n",
    "    yaxis = list(title = \"error\")\n",
    "  )\n",
    "fig\n",
    "#可见由xerror得到的最优cp和叶节点个数较为准确 "
   ]
  },
  {
   "cell_type": "markdown",
   "metadata": {},
   "source": [
    "### 直观地观察rpart决策树的回归曲线"
   ]
  },
  {
   "cell_type": "code",
   "execution_count": null,
   "metadata": {
    "tags": [],
    "vscode": {
     "languageId": "r"
    }
   },
   "outputs": [],
   "source": [
    "library(pacman)\n",
    "\n",
    "options(warn = -1) # 忽略一切警告\n",
    "options(\"width\" = 140) # 充分利用打印宽度\n",
    "options(repr.plot.width = 15, repr.plot.height = 10) # 满幅\n",
    "\n",
    "p_load(rpart)"
   ]
  },
  {
   "cell_type": "markdown",
   "metadata": {},
   "source": [
    "**构建训练集**"
   ]
  },
  {
   "cell_type": "code",
   "execution_count": null,
   "metadata": {
    "scrolled": true,
    "vscode": {
     "languageId": "r"
    }
   },
   "outputs": [],
   "source": [
    "n <- 10000\n",
    "u <- 10\n",
    "v <- 5\n",
    "\n",
    "set.seed(101)\n",
    "x <- sort(runif(n, min = -u, max = u))\n",
    "y <- x * cos(x) + v * rnorm(n) \n",
    "plot(x, y, cex = 0.5)\n",
    "\n",
    "d_tr <- data.frame(x, y)"
   ]
  },
  {
   "cell_type": "markdown",
   "metadata": {},
   "source": [
    "**得到cp曲线**"
   ]
  },
  {
   "cell_type": "code",
   "execution_count": null,
   "metadata": {
    "tags": [],
    "vscode": {
     "languageId": "r"
    }
   },
   "outputs": [],
   "source": [
    "set.seed(2) # 固定xstd：xerror具有随机性--数据随机分割的原因\n",
    "rt <- rpart(y ~ ., data = d_tr, cp = 0)   # cp=0:取消cp在模型复杂度上的约束\n",
    "plotcp(rt)\n",
    "grid()"
   ]
  },
  {
   "cell_type": "markdown",
   "metadata": {
    "vscode": {
     "languageId": "r"
    }
   },
   "source": [
    "完全树--不剪枝：回归曲线复杂"
   ]
  },
  {
   "cell_type": "code",
   "execution_count": null,
   "metadata": {
    "vscode": {
     "languageId": "r"
    }
   },
   "outputs": [],
   "source": [
    "rt <- rpart(y ~ ., data = d_tr, cp = 1e-5)\n",
    "x <- seq(min(d_tr$x), max(d_tr$x), length = 500)\n",
    "\n",
    "plot(d_tr$x, d_tr$y, xlab = \"x\", ylab = \"y\")\n",
    "lines(d_tr$x, predict(rt, d_tr), type = \"l\", lwd = 1, col = \"blue\")\n",
    "y <- x * cos(x)\n",
    "lines(x, y, type = \"l\", lwd = 4, xlab = \"x\", ylab = \"y\", col = \"red\")\n",
    "legend(\"bottomright\", c(\"回归曲线--理论\", \"回归曲线--完全树\"), lwd = c(4, 1), col = c(\"red\", \"blue\"), cex = 0.8)\n",
    "grid()"
   ]
  },
  {
   "cell_type": "markdown",
   "metadata": {},
   "source": [
    "最简树--只有根节点：回归曲线为一条水平线"
   ]
  },
  {
   "cell_type": "code",
   "execution_count": null,
   "metadata": {
    "scrolled": true,
    "vscode": {
     "languageId": "r"
    }
   },
   "outputs": [],
   "source": [
    "rt <- rpart(y ~ ., data = d_tr, cp = Inf)\n",
    "x <- seq(min(d_tr$x), max(d_tr$x), length = 500)\n",
    "\n",
    "plot(d_tr$x, d_tr$y, xlab = \"x\", ylab = \"y\")\n",
    "lines(d_tr$x, predict(rt, d_tr), type = \"l\", lwd = 6, col = \"blue\")\n",
    "y <- x * cos(x)\n",
    "lines(x, y, type = \"l\", lwd = 4, xlab = \"x\", ylab = \"y\", col = \"red\")\n",
    "legend(\"bottomright\", c(\"回归曲线--理论\", \"回归曲线--最简树\"), lwd = c(4, 4), col = c(\"red\", \"blue\"), cex = 0.8)\n",
    "grid()"
   ]
  },
  {
   "cell_type": "markdown",
   "metadata": {},
   "source": [
    "最优树--xerror小且决策树尽量简单：接近理论回归曲线"
   ]
  },
  {
   "cell_type": "code",
   "execution_count": null,
   "metadata": {
    "scrolled": true,
    "vscode": {
     "languageId": "r"
    }
   },
   "outputs": [],
   "source": [
    "rt <- rpart(y ~ ., data = d_tr,  cp = 0.001)\n",
    "x <- seq(min(d_tr$x), max(d_tr$x), length = 500)\n",
    "\n",
    "plot(d_tr$x, d_tr$y,xlab=\"x\",ylab=\"y\")\n",
    "lines(d_tr$x,predict(rt, d_tr),type=\"l\",lwd=6,col=\"blue\")\n",
    "y <- x * cos(x)\n",
    "lines(x,y,type=\"l\",lwd=4,xlab=\"x\",ylab=\"y\", col=\"red\")\n",
    "legend(\"bottomright\", c(\"回归曲线--理论\", \"回归曲线--最优树\"), lwd = c(4, 4), col = c(\"red\", \"blue\"), cex = 0.8)\n",
    "grid()"
   ]
  },
  {
   "cell_type": "markdown",
   "metadata": {},
   "source": [
    "训练集和测试集误差随cp变化曲线"
   ]
  },
  {
   "cell_type": "code",
   "execution_count": null,
   "metadata": {
    "vscode": {
     "languageId": "r"
    }
   },
   "outputs": [],
   "source": [
    "n <- 10000\n",
    "u <- 10\n",
    "v <- 5\n",
    "\n",
    "set.seed(111)\n",
    "x <- sort(runif(n, min = -u, max = u))\n",
    "y <- x * cos(x) + v * rnorm(n) \n",
    "d_te <- data.frame(x, y) #生成测试集\n",
    "\n",
    "rt <- rpart(y ~ ., data = d_tr, cp = 0) \n",
    "cp <- rt$cp\n",
    "a <- cp[, 1] # cp序列\n",
    "L <- length(a)\n",
    "Cp <- sqrt(a[-L] * a[-1]) # 几何平均值--二个界值之间的值\n",
    "node <- cp[-1, 2] + 1 # 叶节点个数序列\n",
    "\n",
    "error_train <- c()\n",
    "error_test <- c()\n",
    "\n",
    "for (c in Cp) # 依次画出各个cp下的决策树，计算当时的训练集和测试集错误率\n",
    "{\n",
    "  rt <- rpart(y ~ ., data = d_tr, cp = c)\n",
    "  # rpart.plot(twf,main=paste('CP=',round(c,4)))    #当前cp值对应的决策树\n",
    "\n",
    "  pred_tr <- predict(rt, d_tr)\n",
    "  error_train <- c(error_train, sqrt(mean((pred_tr - d_tr$y)^2)))\n",
    "\n",
    "  pred_te <- predict(rt, d_te)\n",
    "  error_test <- c(error_test, sqrt(mean((pred_te - d_te$y)^2)))\n",
    "}\n",
    "\n",
    "p_load(plotly)\n",
    "\n",
    "fig <- plot_ly(x = Cp) %>%\n",
    "  add_trace(y = error_train, type = \"scatter\", name = \"train set\", color = I(\"black\"), mode = \"lines+markers\") %>%\n",
    "  add_trace(y = error_test, type = \"scatter\", name = \"test  set\", color = I(\"red\"), mode = \"lines+markers\") %>%\n",
    "  layout(\n",
    "    title = \"Error curves of train and test set\",\n",
    "    xaxis = list(title = \"cp\"),\n",
    "    yaxis = list(title = \"error\")\n",
    "  )\n",
    "fig\n",
    "\n",
    "cat(\"\\n\\n\")\n",
    "\n",
    "fig <- plot_ly(x = node) %>%\n",
    "  add_trace(y = error_train, type = \"scatter\", name = \"train set\", color = I(\"black\"), mode = \"lines+markers\") %>%\n",
    "  add_trace(y = error_test, type = \"scatter\", name = \"test  set\", color = I(\"red\"), mode = \"lines+markers\") %>%\n",
    "  layout(\n",
    "    title = \"Error curves of train and test set\",\n",
    "    xaxis = list(title = \"number of leaf node\"),\n",
    "    yaxis = list(title = \"error\")\n",
    "  )\n",
    "fig\n",
    "#可见由xerror得到的最优cp和叶节点个数较为准确 "
   ]
  },
  {
   "cell_type": "markdown",
   "metadata": {},
   "source": [
    "### 分类：平衡、代价不敏感、无缺失值、特征混合取值\n",
    "\n",
    "将原 abalone 数据集的“Rings”值改造成\"L\"、 \"H\"二个数量大致相同的类别，当前的问题是根据一系列特征，判断 abalone 的“Rings”类别，特征混合取值--**既有离散取值，也有连续取值**。\n"
   ]
  },
  {
   "cell_type": "code",
   "execution_count": null,
   "metadata": {
    "vscode": {
     "languageId": "r"
    }
   },
   "outputs": [],
   "source": [
    "library(pacman)\n",
    "\n",
    "options(warn = -1) # 忽略一切警告\n",
    "options(\"width\" = 140) # 充分利用打印宽度\n",
    "options(repr.plot.width = 15, repr.plot.height = 10) # 满幅\n",
    "\n",
    "p_load(rpart)\n",
    "p_load(rattle) # 使用其中的fancyRpartPlot函数\n",
    "p_load(skimr)\n",
    "s <- skim_tee\n",
    "p_load(AppliedPredictiveModeling)"
   ]
  },
  {
   "cell_type": "code",
   "execution_count": null,
   "metadata": {
    "vscode": {
     "languageId": "r"
    }
   },
   "outputs": [],
   "source": [
    "data(abalone)\n",
    "ab <- abalone\n",
    "ab$Rings <- factor((ab$Rings) > 9, labels = c(\"L\", \"H\"))\n",
    "# 处理成二类，逻辑型factor的levels的排序默认是：FALSE,TRUE，分别对应于\"L\",\"H\"\n",
    "s(ab)"
   ]
  },
  {
   "cell_type": "code",
   "execution_count": null,
   "metadata": {
    "tags": [],
    "vscode": {
     "languageId": "r"
    }
   },
   "outputs": [],
   "source": [
    "# 将数据集1:1随机分割成训练集和测试集\n",
    "set.seed(100)\n",
    "i <- sample(nrow(ab), nrow(ab) * 0.5)\n",
    "train_ab <- ab[i, ]\n",
    "test_ab <- ab[-i, ]\n",
    "s(train_ab)"
   ]
  },
  {
   "cell_type": "code",
   "execution_count": null,
   "metadata": {
    "scrolled": true,
    "tags": [],
    "vscode": {
     "languageId": "r"
    }
   },
   "outputs": [],
   "source": [
    "set.seed(2) # 固定xstd：xerror具有随机性--数据随机分割的原因\n",
    "ctab <- rpart(Rings ~ ., data = train_ab, method = \"class\", cp = 0) # cp=0--取消cp在模型复杂度上的约束\n",
    "summary(ctab)\n",
    "# 从各个splits(分枝)可见，其improve值逐层下降--优先选择improve大的变量作为当前的分枝变量。"
   ]
  },
  {
   "cell_type": "markdown",
   "metadata": {},
   "source": [
    "**观察以上输出**\n"
   ]
  },
  {
   "cell_type": "markdown",
   "metadata": {},
   "source": [
    "--cp 表：\n",
    "\n",
    "- rel error 是训练集误差，error 为错判率 = 判错总个数 / 样例总个数。\n",
    "  - 随着 cp 的下降，nsplit 全程上升(决策树越来越庞大)，rel error 全程而下降，表明 cp 越低决策树越复杂，训练集误差越低。\n",
    "- xerror 是多折(默认为十折)交叉验证得到的误差值均值。\n",
    "  - xerror 首先随着随着 cp 的下降而下降，然后开始上升，表明 cp 越低决策树越复杂，会引起过拟合，降低泛化性能。\n",
    "  - xerror 都大于同行的 rel error，可见 rel error 偏乐观。\n",
    "- rel error 和 xerror 都是以 Root node error 为基准的相对值--为了便于比较。\n",
    "- xstd 是 xerror 的标准差，反映 xerror 的变动情况，xerror 具有随机性--数据随机分割的缘故。\n",
    "  - 1-SE 原则：最优 cp 值为最小 xerror 的 cp 点的 1-SE 范围内的最大值，参见https://stats.stackexchange.com/questions/92547/r-rpart-cross-validation-and-1-se-rule-why-is-the-column-in-cptable-called-xst\n"
   ]
  },
  {
   "cell_type": "markdown",
   "metadata": {
    "tags": []
   },
   "source": [
    "**cp 逐降，xerror 的变化情况：**\n"
   ]
  },
  {
   "cell_type": "code",
   "execution_count": null,
   "metadata": {
    "tags": [],
    "vscode": {
     "languageId": "r"
    }
   },
   "outputs": [],
   "source": [
    "plotcp(ctab) # 图示，横坐标值是上表二个连续cp值的几何平均值--取值可以介于二者之间之意\n",
    "grid()\n",
    "# 水平虚线为最小均值xerror加其1-SE，在此线附近最大的cp值最优，可见cp在0.0045附近，xerror小，根据1-SE原则，0.011附近cp最优"
   ]
  },
  {
   "cell_type": "markdown",
   "metadata": {},
   "source": [
    "最优决策树"
   ]
  },
  {
   "cell_type": "code",
   "execution_count": null,
   "metadata": {
    "tags": [],
    "vscode": {
     "languageId": "r"
    }
   },
   "outputs": [],
   "source": [
    "# 由xerror 1-SE原则认定最优cp=0.011\n",
    "\n",
    "crtabo <- rpart(Rings ~ ., data = train_ab, method = \"class\", cp = 0.011)\n",
    "fancyRpartPlot(crtabo, caption = paste(\"confidence sort order：\", toString(levels(train_ab$Rings))))\n",
    "\n",
    "pdf(\"crtabo.pdf\", width = 4, height = 4) # 输出为pdf格式，可清晰放大\n",
    "fancyRpartPlot(crtabo, caption = paste(\"confidence sort order：\", toString(levels(train_ab$Rings))))\n",
    "dev.off()"
   ]
  },
  {
   "cell_type": "code",
   "execution_count": null,
   "metadata": {
    "tags": [],
    "vscode": {
     "languageId": "r"
    }
   },
   "outputs": [],
   "source": [
    "pred_tr <- predict(crtabo, train_ab, type = \"class\") # 训练集的预测值\n",
    "(error_train <- mean(pred_tr != train_ab$Rings)) # 训练集的错误率\n",
    "pred_te <- predict(crtabo, test_ab, type = \"class\") # 测试集的预测值\n",
    "(error_test <- mean(pred_te != test_ab$Rings)) # 测试集的错误率"
   ]
  },
  {
   "cell_type": "markdown",
   "metadata": {},
   "source": [
    "**变量的重要性排序**\n",
    "\n",
    "变量可以作为主变量或代理变量多次出现在树中。**变量重要性的总体度量是将其作为主要变量的每个分割的分割度量的优度(improve)之和，加上将其作为替代变量的所有分割的优度(improve)_(adjusted agreement)**。在打印输出中，这些值被缩放到总和为 100，并显示四舍五入的值，省略任何比例小于 1%的变量。Avariable may appear in the tree many times, either as a primary or a surrogate variable. An overall measure of variable importance is the sum of the goodness of split measures for each split for which it was the primary variable, plus goodness _ (adjusted agreement) for all splits in which it was a surrogate. In the printout these are scaled to sum to 100 and the rounded values are shown, omitting any variable whose proportion is less than 1%."
   ]
  },
  {
   "cell_type": "code",
   "execution_count": null,
   "metadata": {
    "vscode": {
     "languageId": "r"
    }
   },
   "outputs": [],
   "source": [
    "barplot(ctab$variable.importance)"
   ]
  },
  {
   "cell_type": "code",
   "execution_count": null,
   "metadata": {
    "vscode": {
     "languageId": "r"
    }
   },
   "outputs": [],
   "source": [
    "summary(ctab)"
   ]
  },
  {
   "cell_type": "markdown",
   "metadata": {},
   "source": [
    "--“improve”怎么计算？\n",
    "\n",
    "The improvement is n times the change in impurity index\n",
    "\n",
    "improvement = 分枝前(节点样例个数 × “impurity index”) - 分支后(节点样例个数 × “impurity index”)之和\n",
    "\n",
    "比如根节点的分枝：\n"
   ]
  },
  {
   "cell_type": "code",
   "execution_count": null,
   "metadata": {
    "vscode": {
     "languageId": "r"
    }
   },
   "outputs": [],
   "source": [
    "addmargins(with(\n",
    "  train_ab,\n",
    "  table(cut(ShellWeight, c(0, 0.2545, Inf)),\n",
    "  Rings, exclude = NULL)\n",
    "))"
   ]
  },
  {
   "cell_type": "markdown",
   "metadata": {},
   "source": [
    "improvement = 1044 - 1166[ 1-(851/1166)<sup>2</sup> - (315/1166)<sup>2</sup> ] - 922[ 1 - (193/922)<sup>2</sup>-(729/922)<sup>2</sup> ] = 278.9977\n"
   ]
  },
  {
   "cell_type": "markdown",
   "metadata": {},
   "source": [
    "--“Surrogate splits”怎么得到？\n",
    "\n",
    "按照“agree”降序排列，“agree”是该替代分枝与原分枝的一致程度，以根节点的分枝为例："
   ]
  },
  {
   "cell_type": "code",
   "execution_count": null,
   "metadata": {
    "vscode": {
     "languageId": "r"
    }
   },
   "outputs": [],
   "source": [
    "with(train_ab, table(cut(ShellWeight, c(0, 0.2545, Inf)), cut(WholeWeight, c(0, 0.89975, Inf)), exclude = NULL))"
   ]
  },
  {
   "cell_type": "markdown",
   "metadata": {},
   "source": [
    "注意：原分枝是“ShellWeight < 0.2545 to the left”，替代分枝是“WholeWeight < 0.89975 to the left”，所以其 agree 为：\n"
   ]
  },
  {
   "cell_type": "code",
   "execution_count": null,
   "metadata": {
    "vscode": {
     "languageId": "r"
    }
   },
   "outputs": [],
   "source": [
    "(1100 + 829) / (1100 + 829 + 93 + 66)"
   ]
  },
  {
   "cell_type": "markdown",
   "metadata": {},
   "source": [
    "“adj”(adjusted agreement)计算：\n",
    "\n",
    "若该数据集所有的样例的 ShellWeight 值缺失，不依赖其他属性，将其认定为“< 0.2545”,正确的个数为 1100+66，替代分枝“WholeWeight < 0.89975 ”的作用体现在剩下的(1100 + 829 + 93 + 66 - (1100 + 66))样例中正确认定了(1100 + 829 - (1100 + 66))个，所以 adj 为："
   ]
  },
  {
   "cell_type": "code",
   "execution_count": null,
   "metadata": {
    "vscode": {
     "languageId": "r"
    }
   },
   "outputs": [],
   "source": [
    "(1100 + 829 - (1100 + 66)) / (1100 + 829 + 93 + 66 - (1100 + 66))"
   ]
  },
  {
   "cell_type": "markdown",
   "metadata": {},
   "source": [
    "#### 多类别：分成二个以上类别\n"
   ]
  },
  {
   "cell_type": "code",
   "execution_count": null,
   "metadata": {
    "vscode": {
     "languageId": "r"
    }
   },
   "outputs": [],
   "source": [
    "library(pacman)\n",
    "\n",
    "options(warn = -1) # 忽略一切警告\n",
    "options(\"width\" = 140) # 充分利用打印宽度\n",
    "options(repr.plot.width = 15, repr.plot.height = 10) # 满幅\n",
    "p_load(rattle)\n",
    "p_load(rpart)\n",
    "p_load(skimr)\n",
    "s <- skim_tee"
   ]
  },
  {
   "cell_type": "code",
   "execution_count": null,
   "metadata": {
    "scrolled": true,
    "vscode": {
     "languageId": "r"
    }
   },
   "outputs": [],
   "source": [
    "s(iris)"
   ]
  },
  {
   "cell_type": "code",
   "execution_count": null,
   "metadata": {
    "vscode": {
     "languageId": "r"
    }
   },
   "outputs": [],
   "source": [
    "t <- rpart(Species ~ ., data = iris)\n",
    "fancyRpartPlot(t, caption = paste(\"confidence sort order：\", toString(levels(iris$Species))))"
   ]
  },
  {
   "cell_type": "markdown",
   "metadata": {},
   "source": [
    "### 分类：非平衡、代价敏感、无缺失值"
   ]
  },
  {
   "cell_type": "markdown",
   "metadata": {},
   "source": [
    "数据集 $friedman1$按此方式生成模拟数据：自变量 $\\{X_j\\}^{10}_ {j=1}\\overset{iid}{\\sim} U(0,1)$，$Y=10\\sin(\\pi X_1X_2)+20(X_3-0.5)^2+10X_4+5X_5+\\epsilon$ ,  其中$\\epsilon\\sim N(0,\\sigma)$ ，请注意$X_6 \\sim X_{10} $ 独立于 $Y$ 。将该数据集改造成\"L\"、\"H\"二类数量悬殊的非平衡数据集：\n"
   ]
  },
  {
   "cell_type": "code",
   "execution_count": null,
   "metadata": {
    "tags": [],
    "vscode": {
     "languageId": "r"
    }
   },
   "outputs": [],
   "source": [
    "library(pacman)\n",
    "\n",
    "options(warn = -1) # 忽略一切警告\n",
    "options(\"width\" = 140) # 充分利用打印宽度\n",
    "options(repr.plot.width = 15, repr.plot.height = 10) # 满幅\n",
    "\n",
    "p_load(rpart)\n",
    "p_load(rattle) # 使用其中的fancyRpartPlot函数\n",
    "p_load(skimr)\n",
    "s <- skim_tee"
   ]
  },
  {
   "cell_type": "markdown",
   "metadata": {},
   "source": [
    "**生成数据**\n"
   ]
  },
  {
   "cell_type": "code",
   "execution_count": null,
   "metadata": {
    "tags": [],
    "vscode": {
     "languageId": "r"
    }
   },
   "outputs": [],
   "source": [
    "# 训练集\n",
    "set.seed(943) # for reproducibility\n",
    "tr_fr <- treemisc::gen_friedman1(100000, nx = 10, sigma = 0.1)\n",
    "tr_fr$y <- factor(ifelse(tr_fr$y < quantile(tr_fr$y, 0.9), \"L\", \"H\"))\n",
    "s(tr_fr)"
   ]
  },
  {
   "cell_type": "code",
   "execution_count": null,
   "metadata": {
    "tags": [],
    "vscode": {
     "languageId": "r"
    }
   },
   "outputs": [],
   "source": [
    "# 测试集\n",
    "set.seed(955) # for reproducibility\n",
    "te_fr <- treemisc::gen_friedman1(100000, nx = 10, sigma = 0.1)\n",
    "te_fr$y <- factor(ifelse(te_fr$y < quantile(te_fr$y, 0.9), \"L\", \"H\"))\n",
    "s(te_fr)"
   ]
  },
  {
   "cell_type": "markdown",
   "metadata": {},
   "source": [
    "假定将 L 类判为 H 类的代价为 1，H 类判为 L 类的代价为 9\n"
   ]
  },
  {
   "cell_type": "markdown",
   "metadata": {},
   "source": [
    "**不采用非平衡方面的处置**\n"
   ]
  },
  {
   "cell_type": "code",
   "execution_count": null,
   "metadata": {
    "scrolled": true,
    "tags": [],
    "vscode": {
     "languageId": "r"
    }
   },
   "outputs": [],
   "source": [
    "ct_fr <- rpart(y ~ ., data = tr_fr)\n",
    "plotcp(ct_fr)\n",
    "grid()"
   ]
  },
  {
   "cell_type": "code",
   "execution_count": null,
   "metadata": {
    "tags": [],
    "vscode": {
     "languageId": "r"
    }
   },
   "outputs": [],
   "source": [
    "ct_fro <- rpart(y ~ ., data = tr_fr, cp = 0.018) # 根据1-SE原则，由上图得到最优cp\n",
    "# 测试集总损失\n",
    "sum((te_fr$y == \"L\") * (predict(ct_fro, te_fr, type = \"class\") == \"H\")) * 1 +\n",
    "  sum((te_fr$y == \"H\") * (predict(ct_fro, te_fr, type = \"class\") == \"L\")) * 9"
   ]
  },
  {
   "cell_type": "markdown",
   "metadata": {},
   "source": [
    "#### 代价参数法\n",
    "\n",
    "为 rpart 函数指定代价矩阵\n"
   ]
  },
  {
   "cell_type": "code",
   "execution_count": null,
   "metadata": {
    "tags": [],
    "vscode": {
     "languageId": "r"
    }
   },
   "outputs": [],
   "source": [
    "(lm <- matrix(c(0, 9, 1, 0), byrow = TRUE, nrow = 2)) # L类判为H类的代价为1，H类判为L类的代价为9\n",
    "ct_fr1 <- rpart(y ~ ., data = tr_fr, parms = list(loss = lm))\n",
    "plotcp(ct_fr1)\n",
    "grid()"
   ]
  },
  {
   "cell_type": "code",
   "execution_count": null,
   "metadata": {
    "vscode": {
     "languageId": "r"
    }
   },
   "outputs": [],
   "source": [
    "ct_fr1o <- rpart(y ~ ., data = tr_fr, parms = list(loss = lm), cp = 0.026)\n",
    "fancyRpartPlot(ct_fr1o, main = \"代价参数法\") # 画出决策树"
   ]
  },
  {
   "cell_type": "code",
   "execution_count": null,
   "metadata": {
    "vscode": {
     "languageId": "r"
    }
   },
   "outputs": [],
   "source": [
    "# 测试集总损失\n",
    "sum((te_fr$y == \"L\") * (predict(ct_fr1o, te_fr, type = \"class\") == \"H\")) * 1 +\n",
    "    sum((te_fr$y == \"H\") * (predict(ct_fr1o, te_fr, type = \"class\") == \"L\")) * 9"
   ]
  },
  {
   "cell_type": "markdown",
   "metadata": {},
   "source": [
    "#### 数据扩充法\n",
    "\n",
    "--按照代价(L 类判为 H 类的代价为 1，H 类判为 L 类的代价为 9)扩充数据，因此将 H 类扩充到原来的 9 倍。\n"
   ]
  },
  {
   "cell_type": "code",
   "execution_count": null,
   "metadata": {
    "tags": [],
    "vscode": {
     "languageId": "r"
    }
   },
   "outputs": [],
   "source": [
    "# 将H类扩充到原来的9倍\n",
    "id <- tr_fr$y == \"H\"\n",
    "\n",
    "tr_frE <- tr_fr\n",
    "for (i in 1:8) {\n",
    "    tr_frE <- rbind(tr_frE, tr_fr[id, ])\n",
    "}\n",
    "table(tr_frE$y) # 训练集扩充后的构成"
   ]
  },
  {
   "cell_type": "code",
   "execution_count": null,
   "metadata": {
    "tags": [],
    "vscode": {
     "languageId": "r"
    }
   },
   "outputs": [],
   "source": [
    "ct_fr2 <- rpart(y ~ ., data = tr_frE)\n",
    "plotcp(ct_fr2)\n",
    "grid()"
   ]
  },
  {
   "cell_type": "code",
   "execution_count": null,
   "metadata": {
    "vscode": {
     "languageId": "r"
    }
   },
   "outputs": [],
   "source": [
    "ct_fr2o <- rpart(y ~ ., data = tr_frE, cp = 0.026) # 根据1-SE原则，由上图得到最优cp\n",
    "fancyRpartPlot(ct_fr2o, main = \"数据扩充法\") # 画出决策树\n"
   ]
  },
  {
   "cell_type": "code",
   "execution_count": null,
   "metadata": {
    "vscode": {
     "languageId": "r"
    }
   },
   "outputs": [],
   "source": [
    "# 测试集总损失\n",
    "sum((te_fr$y == \"L\") * (predict(ct_fr2o, te_fr, type = \"class\") == \"H\")) * 1 +\n",
    "    sum((te_fr$y == \"H\") * (predict(ct_fr2o, te_fr, type = \"class\") == \"L\")) * 9"
   ]
  },
  {
   "cell_type": "markdown",
   "metadata": {},
   "source": [
    "观察代价参数法和数据扩充法，二者的最优决策树判别路径完全相同，说明二者的根本机理相同。\n"
   ]
  },
  {
   "cell_type": "markdown",
   "metadata": {},
   "source": [
    "### 回归：无缺失值、特征混合取值\n",
    "\n",
    "The Abalone data consist of data from 4177 abalones. The data consist of measurements of the type (male, female and infant), the longest shell measurement, the diameter, height and several weights (whole, shucked, viscera and shell). The outcome is the number of rings. The age of the abalone is the number of rings plus 1.5.\n",
    "鲍鱼数据集包括来自4177只鲍鱼的数据，包括类型测量(公、母、幼)、最长壳测量、直径、高度和几种重量(全壳、去壳、内脏和壳)，结果是环的数量，鲍鱼的年龄是年轮数加上1.5。"
   ]
  },
  {
   "cell_type": "markdown",
   "metadata": {},
   "source": [
    "理论参见：\n",
    "\n",
    "- https://zhuanlan.zhihu.com/p/139519852\n",
    "- https://zhuanlan.zhihu.com/p/82054400\n"
   ]
  },
  {
   "cell_type": "code",
   "execution_count": null,
   "metadata": {
    "vscode": {
     "languageId": "r"
    }
   },
   "outputs": [],
   "source": [
    "library(pacman)\n",
    "\n",
    "options(warn = -1) # 忽略一切警告\n",
    "options(\"width\" = 140) # 充分利用打印宽度\n",
    "options(repr.plot.width = 15, repr.plot.height = 10) # 满幅\n",
    "\n",
    "p_load(rpart)\n",
    "p_load(rattle) # 使用其中的fancyRpartPlot函数\n",
    "p_load(skimr)\n",
    "s <- skim_tee\n",
    "p_load(AppliedPredictiveModeling)"
   ]
  },
  {
   "cell_type": "code",
   "execution_count": null,
   "metadata": {
    "vscode": {
     "languageId": "r"
    }
   },
   "outputs": [],
   "source": [
    "data(abalone)\n",
    "ab <- abalone\n",
    "s(ab)"
   ]
  },
  {
   "cell_type": "code",
   "execution_count": null,
   "metadata": {
    "tags": [],
    "vscode": {
     "languageId": "r"
    }
   },
   "outputs": [],
   "source": [
    "# 将数据集1:1随机分割成训练集和测试集\n",
    "set.seed(100)\n",
    "I <- sample(nrow(ab), nrow(ab) * 0.5)\n",
    "train_ab <- ab[I, ]\n",
    "test_ab <- ab[-I, ]\n",
    "s(train_ab)"
   ]
  },
  {
   "cell_type": "code",
   "execution_count": null,
   "metadata": {
    "scrolled": true,
    "tags": [],
    "vscode": {
     "languageId": "r"
    }
   },
   "outputs": [],
   "source": [
    "set.seed(2) # 固定xstd：xerror具有随机性--数据随机分割的原因\n",
    "rtab <- rpart(Rings ~ ., data = train_ab, cp = 0) # cp=0--决策树充分生长，保留该值以上cp的情形\n",
    "summary(rtab)"
   ]
  },
  {
   "cell_type": "markdown",
   "metadata": {},
   "source": [
    "- improve is of a split SST − (SSL + SSR), SST is the sum of square errors for the node, and SSR, SSL are the sums of square errors for the right and left son\n",
    "- The error of a node is the variance of y\n"
   ]
  },
  {
   "cell_type": "code",
   "execution_count": null,
   "metadata": {
    "vscode": {
     "languageId": "r"
    }
   },
   "outputs": [],
   "source": [
    "rtab$method   #method取值"
   ]
  },
  {
   "cell_type": "code",
   "execution_count": null,
   "metadata": {
    "tags": [],
    "vscode": {
     "languageId": "r"
    }
   },
   "outputs": [],
   "source": [
    "plotcp(rtab) # 随着cp的变化，决策树的error变化情况\n",
    "grid()"
   ]
  },
  {
   "cell_type": "code",
   "execution_count": null,
   "metadata": {
    "tags": [],
    "vscode": {
     "languageId": "r"
    }
   },
   "outputs": [],
   "source": [
    "fancyRpartPlot(rtab, caption = \"\")"
   ]
  },
  {
   "cell_type": "markdown",
   "metadata": {},
   "source": [
    "由 xerror 认定的最优决策树\n"
   ]
  },
  {
   "cell_type": "code",
   "execution_count": null,
   "metadata": {
    "tags": [],
    "vscode": {
     "languageId": "r"
    }
   },
   "outputs": [],
   "source": [
    "# 根据1-SE原则，最优cp=0.0097\n",
    "rtabo <- rpart(Rings ~ ., data = train_ab, cp = 0.0097)\n",
    "fancyRpartPlot(rtabo, caption = \"\")"
   ]
  },
  {
   "cell_type": "code",
   "execution_count": null,
   "metadata": {
    "vscode": {
     "languageId": "r"
    }
   },
   "outputs": [],
   "source": [
    "# 各个叶节点的拟合值(横轴)以及偏差(纵轴-均方差)情况\n",
    "meanvar(rtabo)\n",
    "grid()"
   ]
  },
  {
   "cell_type": "markdown",
   "metadata": {},
   "source": [
    "各叶节点残差的分布情况--residuals 函数\n"
   ]
  },
  {
   "cell_type": "code",
   "execution_count": null,
   "metadata": {
    "scrolled": true,
    "vscode": {
     "languageId": "r"
    }
   },
   "outputs": [],
   "source": [
    "p_load(tidyverse)\n",
    "data.frame(predict = ordered(round(predict(rtabo), digit = 2)), residuals = residuals(rtabo)) %>%\n",
    "  ggplot(aes(x = predict, y = residuals)) +\n",
    "  geom_boxplot() +\n",
    "  geom_jitter(width = 0.1, alpha = 0.2)"
   ]
  },
  {
   "cell_type": "markdown",
   "metadata": {},
   "source": [
    "误差－最优决策树\n"
   ]
  },
  {
   "cell_type": "code",
   "execution_count": null,
   "metadata": {
    "tags": [],
    "vscode": {
     "languageId": "r"
    }
   },
   "outputs": [],
   "source": [
    "pred_tr <- predict(rtabo, train_ab) # 训练集的预测值\n",
    "(error_train <- sqrt(mean((pred_tr - train_ab$Rings)^2))) # 针对于训练集的RMSE\n",
    "pred_te <- predict(rtabo, test_ab) # 测试集的预测值\n",
    "(error_test <- sqrt(mean((pred_te - test_ab$Rings)^2))) # 针对于训练集的RMSE"
   ]
  },
  {
   "cell_type": "markdown",
   "metadata": {},
   "source": [
    "**cp 对回归性能的影响：**\n"
   ]
  },
  {
   "cell_type": "code",
   "execution_count": null,
   "metadata": {
    "scrolled": true,
    "tags": [],
    "vscode": {
     "languageId": "r"
    }
   },
   "outputs": [],
   "source": [
    "cp <- rtab$cp\n",
    "a <- cp[, 1] # cp序列\n",
    "L <- length(a)\n",
    "Cp <- sqrt(a[-L] * a[-1]) # 几何平均值--二个界值之间的值\n",
    "node <- cp[-1, 2] + 1 # 叶节点个数序列\n",
    "\n",
    "error_train <- c()\n",
    "error_test <- c()\n",
    "\n",
    "for (c in Cp) # 依次画出各个cp下的决策树，计算当时的训练集和测试集错误率\n",
    "{\n",
    "  rt <- rpart(Rings ~ ., data = train_ab, cp = c)\n",
    "  # rpart.plot(twf,main=paste('CP=',round(c,4)))    #当前cp值对应的决策树\n",
    "\n",
    "  pred_tr <- predict(rt, train_ab)\n",
    "  error_train <- c(error_train, sqrt(mean((pred_tr - train_ab$Rings)^2)))\n",
    "\n",
    "  pred_te <- predict(rt, test_ab)\n",
    "  error_test <- c(error_test, sqrt(mean((pred_te - test_ab$Rings)^2)))\n",
    "}\n",
    "\n",
    "p_load(plotly)\n",
    "\n",
    "fig <- plot_ly(x = Cp) %>%\n",
    "  add_trace(y = error_train, type = \"scatter\", name = \"train set\", color = I(\"black\"), mode = \"lines+markers\") %>%\n",
    "  add_trace(y = error_test, type = \"scatter\", name = \"test  set\", color = I(\"red\"), mode = \"lines+markers\") %>%\n",
    "  layout(\n",
    "    title = \"Error curves of train and test set\",\n",
    "    xaxis = list(title = \"cp\"),\n",
    "    yaxis = list(title = \"error\")\n",
    "  )\n",
    "fig\n",
    "\n",
    "cat(\"\\n\\n\")\n",
    "\n",
    "fig <- plot_ly(x = node) %>%\n",
    "  add_trace(y = error_train, type = \"scatter\", name = \"train set\", color = I(\"black\"), mode = \"lines+markers\") %>%\n",
    "  add_trace(y = error_test, type = \"scatter\", name = \"test  set\", color = I(\"red\"), mode = \"lines+markers\") %>%\n",
    "  layout(\n",
    "    title = \"Error curves of train and test set\",\n",
    "    xaxis = list(title = \"number of leaf node\"),\n",
    "    yaxis = list(title = \"error\")\n",
    "  )\n",
    "fig"
   ]
  },
  {
   "cell_type": "markdown",
   "metadata": {},
   "source": [
    "可见 cp 值为 0.0025 时，test set 的 error 最低，在 xerror 1-SE 范围内\n"
   ]
  },
  {
   "cell_type": "code",
   "execution_count": null,
   "metadata": {
    "scrolled": true,
    "vscode": {
     "languageId": "r"
    }
   },
   "outputs": [],
   "source": [
    "plotcp(rtab) # 随着cp的变化，决策树的error变化情况\n",
    "grid()"
   ]
  },
  {
   "cell_type": "markdown",
   "metadata": {},
   "source": [
    "### 回归：无缺失值、特征连续取值\n"
   ]
  },
  {
   "cell_type": "markdown",
   "metadata": {},
   "source": [
    "数据集 $friedman1$按此方式生成模拟数据：自变量 $\\{X_j\\}^{10}_ {j=1}\\overset{iid}{\\sim} U(0,1)$，$Y=10\\sin(\\pi X_1X_2)+20(X_3-0.5)^2+10X_4+5X_5+\\epsilon$ ,  其中$\\epsilon\\sim N(0,\\sigma)$ ，请注意$X_6 \\sim X_{10} $ 独立于 $Y$ 。"
   ]
  },
  {
   "cell_type": "code",
   "execution_count": null,
   "metadata": {
    "vscode": {
     "languageId": "r"
    }
   },
   "outputs": [],
   "source": [
    "library(pacman)\n",
    "\n",
    "options(warn = -1) # 忽略一切警告\n",
    "options(\"width\" = 140) # 充分利用打印宽度\n",
    "options(repr.plot.width = 15, repr.plot.height = 10) # 满幅\n",
    "\n",
    "p_load(rpart)\n",
    "p_load(rattle) # 使用其中的fancyRpartPlot函数\n",
    "p_load(skimr)\n",
    "s <- skim_tee"
   ]
  },
  {
   "cell_type": "code",
   "execution_count": null,
   "metadata": {
    "vscode": {
     "languageId": "r"
    }
   },
   "outputs": [],
   "source": [
    "set.seed(943) # for reproducibility\n",
    "fr <- treemisc::gen_friedman1(1000, nx = 7, sigma = 0.1)\n",
    "s(fr)"
   ]
  },
  {
   "cell_type": "code",
   "execution_count": null,
   "metadata": {
    "tags": [],
    "vscode": {
     "languageId": "r"
    }
   },
   "outputs": [],
   "source": [
    "# 将数据集1:1随机分割成训练集和测试集\n",
    "set.seed(100)\n",
    "I <- sample(nrow(fr), nrow(fr) * 0.5)\n",
    "train_fr <- fr[I, ]\n",
    "test_fr <- fr[-I, ]\n",
    "s(train_fr)"
   ]
  },
  {
   "cell_type": "code",
   "execution_count": null,
   "metadata": {
    "scrolled": true,
    "tags": [],
    "vscode": {
     "languageId": "r"
    }
   },
   "outputs": [],
   "source": [
    "set.seed(2) # 固定xstd：xerror具有随机性--数据随机分割的原因\n",
    "rtfr <- rpart(y ~ ., data = train_fr, cp = 0) # cp=0--决策树充分生长，保留该值以上cp的情形\n",
    "summary(rtfr)"
   ]
  },
  {
   "cell_type": "code",
   "execution_count": null,
   "metadata": {
    "tags": [],
    "vscode": {
     "languageId": "r"
    }
   },
   "outputs": [],
   "source": [
    "plotcp(rtfr) # 随着cp的变化，决策树的error变化情况\n",
    "grid()"
   ]
  },
  {
   "cell_type": "markdown",
   "metadata": {},
   "source": [
    "由 xerror 认定的最优决策树\n"
   ]
  },
  {
   "cell_type": "code",
   "execution_count": null,
   "metadata": {
    "tags": [],
    "vscode": {
     "languageId": "r"
    }
   },
   "outputs": [],
   "source": [
    "# 根据1-SE原则，最优cp=0.0032\n",
    "rtfro <- rpart(y ~ ., data = train_fr, cp = 0.0032)\n",
    "fancyRpartPlot(rtfro, caption = \"\")"
   ]
  },
  {
   "cell_type": "markdown",
   "metadata": {},
   "source": [
    "错误率－最优决策树\n"
   ]
  },
  {
   "cell_type": "code",
   "execution_count": null,
   "metadata": {
    "tags": [],
    "vscode": {
     "languageId": "r"
    }
   },
   "outputs": [],
   "source": [
    "pred_tr <- predict(rtfro, train_fr) # 训练集的预测值\n",
    "(MSE_train <- mean((pred_tr - train_fr$y)^2)) # 针对于训练集的MSE\n",
    "pred_te <- predict(rtfro, test_fr) # 测试集的预测值\n",
    "(MSE_test <- mean((pred_te - test_fr$y)^2)) # 针对于训练集的MSE"
   ]
  },
  {
   "cell_type": "markdown",
   "metadata": {},
   "source": [
    "### Poisson 回归：将计数值作为回归的目标\n"
   ]
  },
  {
   "cell_type": "markdown",
   "metadata": {},
   "source": [
    "理论参见：\n",
    "\n",
    "- https://zhuanlan.zhihu.com/p/104494467\n",
    "- https://mengte.online/archives/4373\n"
   ]
  },
  {
   "cell_type": "code",
   "execution_count": null,
   "metadata": {
    "vscode": {
     "languageId": "r"
    }
   },
   "outputs": [],
   "source": [
    "library(pacman)\n",
    "\n",
    "options(warn = -1) # 忽略一切警告\n",
    "options(\"width\" = 140) # 充分利用打印宽度\n",
    "options(repr.plot.width = 15, repr.plot.height = 10) # 满幅\n",
    "\n",
    "p_load(rpart)\n",
    "p_load(rattle) # 使用其中的fancyRpartPlot函数\n",
    "p_load(skimr)\n",
    "s <- skim_tee"
   ]
  },
  {
   "cell_type": "code",
   "execution_count": null,
   "metadata": {
    "vscode": {
     "languageId": "r"
    }
   },
   "outputs": [],
   "source": [
    "s(solder.balance)"
   ]
  },
  {
   "cell_type": "code",
   "execution_count": null,
   "metadata": {
    "vscode": {
     "languageId": "r"
    }
   },
   "outputs": [],
   "source": [
    "sfit <- rpart(skips ~ Opening + Solder + Mask + PadType + Panel, data = solder.balance, method = \"poisson\")"
   ]
  },
  {
   "cell_type": "code",
   "execution_count": null,
   "metadata": {
    "scrolled": true,
    "vscode": {
     "languageId": "r"
    }
   },
   "outputs": [],
   "source": [
    "summary(sfit)"
   ]
  },
  {
   "cell_type": "markdown",
   "metadata": {},
   "source": [
    "improve--The likelihood ratio test for two Poisson groups: D<sub>parent</sub>- (D<sub>left</sub> + D<sub>right</sub>)\n"
   ]
  },
  {
   "cell_type": "code",
   "execution_count": null,
   "metadata": {
    "vscode": {
     "languageId": "r"
    }
   },
   "outputs": [],
   "source": [
    "plotcp(sfit)"
   ]
  },
  {
   "cell_type": "code",
   "execution_count": null,
   "metadata": {
    "vscode": {
     "languageId": "r"
    }
   },
   "outputs": [],
   "source": [
    "sfito <- rpart(skips ~ Opening + Solder + Mask + PadType + Panel,\n",
    "    data = solder.balance,\n",
    "    method = \"poisson\", cp = 0.017\n",
    ")"
   ]
  },
  {
   "cell_type": "code",
   "execution_count": null,
   "metadata": {
    "vscode": {
     "languageId": "r"
    }
   },
   "outputs": [],
   "source": [
    "fancyRpartPlot(sfito)"
   ]
  },
  {
   "cell_type": "markdown",
   "metadata": {},
   "source": [
    "### 生存分析：一类特殊的 Possion 回归\n"
   ]
  },
  {
   "cell_type": "markdown",
   "metadata": {},
   "source": [
    "理论参见：\n",
    "\n",
    "- https://www.cnblogs.com/wwxbi/p/6136348.html\n",
    "- http://thisis.yorven.site/blog/index.php/2020/04/06/survival-analysis/\n"
   ]
  },
  {
   "cell_type": "code",
   "execution_count": null,
   "metadata": {
    "vscode": {
     "languageId": "r"
    }
   },
   "outputs": [],
   "source": [
    "library(pacman)\n",
    "\n",
    "options(warn = -1) # 忽略一切警告\n",
    "options(\"width\" = 140) # 充分利用打印宽度\n",
    "options(repr.plot.width = 15, repr.plot.height = 10) # 满幅\n",
    "p_load(rpart.plot)\n",
    "p_load(rpart)\n",
    "p_load(skimr)\n",
    "s <- skim_tee"
   ]
  },
  {
   "cell_type": "code",
   "execution_count": null,
   "metadata": {
    "scrolled": true,
    "vscode": {
     "languageId": "r"
    }
   },
   "outputs": [],
   "source": [
    "stagec"
   ]
  },
  {
   "cell_type": "code",
   "execution_count": null,
   "metadata": {
    "vscode": {
     "languageId": "r"
    }
   },
   "outputs": [],
   "source": [
    "s(stagec)"
   ]
  },
  {
   "cell_type": "code",
   "execution_count": null,
   "metadata": {
    "scrolled": true,
    "vscode": {
     "languageId": "r"
    }
   },
   "outputs": [],
   "source": [
    "pfit <- rpart(survival::Surv(pgtime, pgstat) ~ age + eet + g2 + grade + gleason + ploidy, data = stagec)\n",
    "summary(pfit)"
   ]
  },
  {
   "cell_type": "code",
   "execution_count": null,
   "metadata": {
    "vscode": {
     "languageId": "r"
    }
   },
   "outputs": [],
   "source": [
    "pfit$method"
   ]
  },
  {
   "cell_type": "markdown",
   "metadata": {},
   "source": [
    "Sur 函数参数：\n",
    "\n",
    "- time：for right censored data, this is the follow up time. For interval data, the first argument is the starting time for the interval.\n",
    "- event：The status indicator, normally 0=alive, 1=dead.\n"
   ]
  },
  {
   "cell_type": "code",
   "execution_count": null,
   "metadata": {
    "scrolled": true,
    "vscode": {
     "languageId": "r"
    }
   },
   "outputs": [],
   "source": [
    "plotcp(pfit)\n",
    "grid()"
   ]
  },
  {
   "cell_type": "code",
   "execution_count": null,
   "metadata": {
    "vscode": {
     "languageId": "r"
    }
   },
   "outputs": [],
   "source": [
    "pfit2 <- prune(pfit, cp = 0.12945955)\n",
    "rpart.plot(pfit2, nn = TRUE)\n",
    "# 各节点第一行、第二行数字的含义是？"
   ]
  },
  {
   "cell_type": "code",
   "execution_count": null,
   "metadata": {
    "vscode": {
     "languageId": "r"
    }
   },
   "outputs": [],
   "source": [
    "train <- data.frame(RearEnd = c(TRUE, FALSE, TRUE), Fraud = c(TRUE, FALSE, TRUE))\n",
    "mytree <- rpart(Fraud ~ RearEnd, data = train, method = \"class\", minsplit = 2, minbucket = 1)\n",
    "rpart.plot(mytree, extra = 104)\n",
    "mytree$frame"
   ]
  },
  {
   "cell_type": "code",
   "execution_count": null,
   "metadata": {
    "vscode": {
     "languageId": "r"
    }
   },
   "outputs": [],
   "source": [
    "train <- data.frame(RearEnd = c(TRUE, FALSE, TRUE), Fraud = c(TRUE, FALSE, TRUE))\n",
    "mytree <- rpart(Fraud ~ RearEnd,\n",
    "    data = train, method = \"class\", minsplit = 2, minbucket = 1,\n",
    "    weights = c(0.1, 0.1, 0.1)\n",
    ")\n",
    "rpart.plot(mytree, extra = 104)\n",
    "mytree$frame"
   ]
  },
  {
   "cell_type": "code",
   "execution_count": null,
   "metadata": {
    "vscode": {
     "languageId": "r"
    }
   },
   "outputs": [],
   "source": [
    "train <- data.frame(RearEnd = c(TRUE, FALSE, TRUE), Fraud = c(TRUE, FALSE, TRUE))\n",
    "mytree <- rpart(Fraud ~ RearEnd,\n",
    "    data = train, method = \"class\", minsplit = 2, minbucket = 1,\n",
    "    weights = c(0.4, 0.4, 0.4)\n",
    ")\n",
    "rpart.plot(mytree, extra = 104)\n",
    "mytree$frame"
   ]
  },
  {
   "cell_type": "code",
   "execution_count": null,
   "metadata": {
    "scrolled": true,
    "vscode": {
     "languageId": "r"
    }
   },
   "outputs": [],
   "source": [
    "fancyRpartPlot(mytree, caption = \"\")"
   ]
  },
  {
   "cell_type": "markdown",
   "metadata": {},
   "source": [
    "### 缺失值处理\n"
   ]
  },
  {
   "cell_type": "markdown",
   "metadata": {},
   "source": [
    "#### 建模时特征值缺失\n"
   ]
  },
  {
   "cell_type": "code",
   "execution_count": null,
   "metadata": {
    "vscode": {
     "languageId": "r"
    }
   },
   "outputs": [],
   "source": [
    "library(pacman)\n",
    "\n",
    "options(warn = -1) # 忽略一切警告\n",
    "options(\"width\" = 140) # 充分利用打印宽度\n",
    "options(repr.plot.width = 15, repr.plot.height = 10) # 满幅\n",
    "\n",
    "p_load(rpart)\n",
    "p_load(rattle) # 使用其中的fancyRpartPlot函数\n",
    "p_load(skimr)\n",
    "s <- skim_tee\n",
    "p_load(AppliedPredictiveModeling)"
   ]
  },
  {
   "cell_type": "code",
   "execution_count": null,
   "metadata": {
    "vscode": {
     "languageId": "r"
    }
   },
   "outputs": [],
   "source": [
    "data(abalone)\n",
    "ab <- abalone\n",
    "ab$Rings <- factor((ab$Rings) > 9, labels = c(\"L\", \"H\")) # 处理成二类，逻辑型factor的levels的排序默认是：FALSE,TRUE，分别对应于\"L\",\"H\"\n",
    "s(ab)"
   ]
  },
  {
   "cell_type": "code",
   "execution_count": null,
   "metadata": {
    "tags": [],
    "vscode": {
     "languageId": "r"
    }
   },
   "outputs": [],
   "source": [
    "# 将数据集1:1随机分割成训练集和测试集\n",
    "set.seed(100)\n",
    "I <- sample(nrow(ab), nrow(ab) * 0.5)\n",
    "train_ab <- ab[I, ]\n",
    "test_ab <- ab[-I, ]\n",
    "s(train_ab)"
   ]
  },
  {
   "cell_type": "code",
   "execution_count": null,
   "metadata": {
    "scrolled": true,
    "vscode": {
     "languageId": "r"
    }
   },
   "outputs": [],
   "source": [
    "train_ab[1, \"ShellWeight\"] <- NA\n",
    "s(train_ab)"
   ]
  },
  {
   "cell_type": "code",
   "execution_count": null,
   "metadata": {
    "vscode": {
     "languageId": "r"
    }
   },
   "outputs": [],
   "source": [
    "with(train_ab, table(Rings, exclude = NULL))"
   ]
  },
  {
   "cell_type": "code",
   "execution_count": null,
   "metadata": {
    "vscode": {
     "languageId": "r"
    }
   },
   "outputs": [],
   "source": [
    "with(train_ab, table(cut(ShellWeight, c(0, 0.2545, Inf)), Rings, exclude = NULL))"
   ]
  },
  {
   "cell_type": "code",
   "execution_count": null,
   "metadata": {
    "scrolled": true,
    "tags": [],
    "vscode": {
     "languageId": "r"
    }
   },
   "outputs": [],
   "source": [
    "set.seed(2) # 固定xstd：xerror具有随机性--数据随机分割的原因\n",
    "ctab <- rpart(Rings ~ ., data = train_ab, method = \"class\", cp = 0) # cp=0--取消cp在模型复杂度上的约束\n",
    "summary(ctab)\n",
    "# 从各个splits(分枝)可见，其improve值逐层下降--优先选择improve大的属性作为当前的分枝属性。"
   ]
  },
  {
   "cell_type": "raw",
   "metadata": {},
   "source": [
    " \"Primary splits:\n",
    "      ShellWeight   < 0.2545  to the left,  improve=279.7491, (1 missing)\"---279.7491不知道怎么计算出来的"
   ]
  },
  {
   "cell_type": "markdown",
   "metadata": {},
   "source": [
    "#### 预测时特征值缺失\n"
   ]
  },
  {
   "cell_type": "code",
   "execution_count": null,
   "metadata": {
    "vscode": {
     "languageId": "r"
    }
   },
   "outputs": [],
   "source": [
    "library(pacman)\n",
    "\n",
    "options(warn = -1) # 忽略一切警告\n",
    "options(\"width\" = 140) # 充分利用打印宽度\n",
    "options(repr.plot.width = 15, repr.plot.height = 10) # 满幅\n",
    "\n",
    "p_load(rpart)\n",
    "p_load(rattle) # 使用其中的fancyRpartPlot函数\n",
    "p_load(skimr)\n",
    "s <- skim_tee\n",
    "p_load(AppliedPredictiveModeling)"
   ]
  },
  {
   "cell_type": "code",
   "execution_count": null,
   "metadata": {
    "scrolled": true,
    "vscode": {
     "languageId": "r"
    }
   },
   "outputs": [],
   "source": [
    "data(abalone)\n",
    "ab <- abalone\n",
    "ab$Rings <- factor((ab$Rings) > 9, labels = c(\"L\", \"H\")) # 处理成二类，逻辑型factor的levels的排序默认是：FALSE,TRUE，分别对应于\"L\",\"H\"\n",
    "\n",
    "# 将数据集1:1随机分割成训练集和测试集\n",
    "set.seed(100)\n",
    "I <- sample(nrow(ab), nrow(ab) * 0.5)\n",
    "train_ab <- ab[I, ]\n",
    "test_ab <- ab[-I, ]\n",
    "head(test_ab)"
   ]
  },
  {
   "cell_type": "code",
   "execution_count": null,
   "metadata": {
    "scrolled": true,
    "tags": [],
    "vscode": {
     "languageId": "r"
    }
   },
   "outputs": [],
   "source": [
    "set.seed(2) # 固定xstd：xerror具有随机性--数据随机分割的原因\n",
    "ctab <- rpart(Rings ~ ., data = train_ab, control = list(maxsurrogate = 7), method = \"class\", cp = 0.2)\n",
    "summary(ctab)\n",
    "fancyRpartPlot(ctab, caption = \"\")"
   ]
  },
  {
   "cell_type": "code",
   "execution_count": null,
   "metadata": {
    "vscode": {
     "languageId": "r"
    }
   },
   "outputs": [],
   "source": [
    "ctab$control"
   ]
  },
  {
   "attachments": {},
   "cell_type": "markdown",
   "metadata": {},
   "source": [
    "maxsurrogate--\n",
    "the number of surrogate splits retained in the output. If this is set to zero the\n",
    "compute time will be reduced, since approximately half of the computational\n",
    "time (other than setup) is used in the search for surrogate splits.在输出中保留的代理分割的数量。如果将其设置为零，计算时间将减少，因为大约一半的计算时间(除了设置)用于搜索代理分割。\n",
    "\n",
    "usesurrogate--\n",
    "how to use surrogates in the splitting process. 0 means display only; an observation with a missing value for the primary split 原则 is not sent further down\n",
    "the tree. 1 means use surrogates, in order, to split subjects missing the primary variable; if all surrogates are missing the observation is not split. For value 2 (default),if\n",
    "all surrogates are missing, then send the observation in the majority direction. 如何在拆分过程中使用代理。0 表示只显示;缺少主分割规则值的观测值不会发送到树的下一级。1 表示使用替代物，以便分割缺少主要变量的受试者;如果所有的代理缺失，则观察结果不分裂。对于值 2(默认值)，如果缺少所有的代理，则向多数方向发送观察结果。\n"
   ]
  },
  {
   "cell_type": "raw",
   "metadata": {},
   "source": [
    "分枝依据：\n",
    "“  Primary splits:\n",
    "      ShellWeight   < 0.2545  to the left,  improve=278.9977, (0 missing)\n",
    "      ...\n",
    "  Surrogate splits:\n",
    "      WholeWeight   < 0.89975 to the left,  agree=0.924, adj=0.828, (0 split)\n",
    "      Diameter      < 0.4475  to the left,  agree=0.905, adj=0.784, (0 split)\n",
    "      LongestShell  < 0.5625  to the left,  agree=0.890, adj=0.751, (0 split)\n",
    "      VisceraWeight < 0.18225 to the left,  agree=0.889, adj=0.749, (0 split)\n",
    "      ShuckedWeight < 0.37625 to the left,  agree=0.873, adj=0.713, (0 split)\n",
    "      Height        < 0.1475  to the left,  agree=0.872, adj=0.709, (0 split)\n",
    "      Type          splits as  RLR,         agree=0.711, adj=0.346, (0 split)”"
   ]
  },
  {
   "cell_type": "markdown",
   "metadata": {},
   "source": [
    "**观察“Surrogate splits”的用法**\n"
   ]
  },
  {
   "cell_type": "markdown",
   "metadata": {},
   "source": [
    "首先，“ShellWeight”值缺失：\n"
   ]
  },
  {
   "cell_type": "code",
   "execution_count": null,
   "metadata": {
    "vscode": {
     "languageId": "r"
    }
   },
   "outputs": [],
   "source": [
    "test_ab[1, \"ShellWeight\"] <- NA\n",
    "test_ab[1, ]"
   ]
  },
  {
   "cell_type": "code",
   "execution_count": null,
   "metadata": {
    "vscode": {
     "languageId": "r"
    }
   },
   "outputs": [],
   "source": [
    "predict(ctab, test_ab[1, ], type = \"class\")"
   ]
  },
  {
   "cell_type": "code",
   "execution_count": null,
   "metadata": {
    "vscode": {
     "languageId": "r"
    }
   },
   "outputs": [],
   "source": [
    "test_ab[16, \"ShellWeight\"] <- NA\n",
    "test_ab[16, ]"
   ]
  },
  {
   "cell_type": "code",
   "execution_count": null,
   "metadata": {
    "vscode": {
     "languageId": "r"
    }
   },
   "outputs": [],
   "source": [
    "predict(ctab, test_ab[16, ], type = \"class\")"
   ]
  },
  {
   "cell_type": "raw",
   "metadata": {},
   "source": [
    "\"ShellWeight\"值缺失，预测依据的是\n",
    "“Surrogate splits:\n",
    "      WholeWeight   < 0.84075 to the left”"
   ]
  },
  {
   "cell_type": "markdown",
   "metadata": {},
   "source": [
    "ShellWeight 和 WholeWeight 均缺失\n"
   ]
  },
  {
   "cell_type": "code",
   "execution_count": null,
   "metadata": {
    "vscode": {
     "languageId": "r"
    }
   },
   "outputs": [],
   "source": [
    "test_ab[1, \"WholeWeight\"] <- NA\n",
    "test_ab[1, ]"
   ]
  },
  {
   "cell_type": "code",
   "execution_count": null,
   "metadata": {
    "vscode": {
     "languageId": "r"
    }
   },
   "outputs": [],
   "source": [
    "predict(ctab, test_ab[1, ], type = \"class\")"
   ]
  },
  {
   "cell_type": "code",
   "execution_count": null,
   "metadata": {
    "vscode": {
     "languageId": "r"
    }
   },
   "outputs": [],
   "source": [
    "test_ab[16, \"WholeWeight\"] <- NA\n",
    "test_ab[16, ]"
   ]
  },
  {
   "cell_type": "code",
   "execution_count": null,
   "metadata": {
    "vscode": {
     "languageId": "r"
    }
   },
   "outputs": [],
   "source": [
    "predict(ctab, test_ab[16, ], type = \"class\")"
   ]
  },
  {
   "cell_type": "raw",
   "metadata": {},
   "source": [
    "\"ShellWeight和WholeWeight缺失，预测依据的是\n",
    "“Surrogate splits:\n",
    "      Diameter      < 0.4475  to the left”"
   ]
  },
  {
   "cell_type": "markdown",
   "metadata": {},
   "source": [
    "ShellWeight 和 WholeWeight、Diameter 均缺失\n"
   ]
  },
  {
   "cell_type": "code",
   "execution_count": null,
   "metadata": {
    "vscode": {
     "languageId": "r"
    }
   },
   "outputs": [],
   "source": [
    "test_ab[1, \"Diameter\"] <- NA\n",
    "test_ab[1, ]"
   ]
  },
  {
   "cell_type": "code",
   "execution_count": null,
   "metadata": {
    "vscode": {
     "languageId": "r"
    }
   },
   "outputs": [],
   "source": [
    "predict(ctab, test_ab[1, ], type = \"class\")"
   ]
  },
  {
   "cell_type": "code",
   "execution_count": null,
   "metadata": {
    "vscode": {
     "languageId": "r"
    }
   },
   "outputs": [],
   "source": [
    "test_ab[16, \"Diameter\"] <- NA\n",
    "test_ab[16, ]"
   ]
  },
  {
   "cell_type": "code",
   "execution_count": null,
   "metadata": {
    "vscode": {
     "languageId": "r"
    }
   },
   "outputs": [],
   "source": [
    "predict(ctab, test_ab[16, ], type = \"class\")"
   ]
  },
  {
   "cell_type": "raw",
   "metadata": {},
   "source": [
    "ShellWeight和WholeWeight、Diameter均缺失，预测依据的是：\n",
    "“ Surrogate splits:\n",
    "      ...\n",
    "      LongestShell  < 0.5625  to the left”"
   ]
  },
  {
   "cell_type": "markdown",
   "metadata": {},
   "source": [
    "**按序使用“Surrogate”时的误差**\n",
    "\n",
    "      ShellWeight-> WholeWeight-> Diameter-> LongestShell-> VisceraWeight-> ShuckedWeight-> Height->Type 依次缺失\n"
   ]
  },
  {
   "cell_type": "code",
   "execution_count": null,
   "metadata": {
    "vscode": {
     "languageId": "r"
    }
   },
   "outputs": [],
   "source": [
    "# 无缺失\n",
    "test_ab <- ab[-I, ]\n",
    "s(test_ab)\n",
    "\n",
    "pred_te <- predict(ctab, test_ab, type = \"class\") # 测试集的预测值\n",
    "(error_test <- mean(pred_te != test_ab$Rings)) # 测试集的错误率"
   ]
  },
  {
   "cell_type": "code",
   "execution_count": null,
   "metadata": {
    "vscode": {
     "languageId": "r"
    }
   },
   "outputs": [],
   "source": [
    "test_ab[, \"ShellWeight\"] <- NA\n",
    "test_ab[, \"ShellWeight\"] <- as.numeric(test_ab[, \"ShellWeight\"])\n",
    "s(test_ab)\n",
    "\n",
    "pred_te <- predict(ctab, test_ab, type = \"class\") # 测试集的预测值\n",
    "(error_test <- mean(pred_te != test_ab$Rings)) # 测试集的错误率"
   ]
  },
  {
   "cell_type": "code",
   "execution_count": null,
   "metadata": {
    "vscode": {
     "languageId": "r"
    }
   },
   "outputs": [],
   "source": [
    "test_ab[, \"WholeWeight\"] <- NA\n",
    "test_ab[, \"WholeWeight\"] <- as.numeric(test_ab[, \"WholeWeight\"])\n",
    "s(test_ab)\n",
    "\n",
    "pred_te <- predict(ctab, test_ab, type = \"class\") # 测试集的预测值\n",
    "(error_test <- mean(pred_te != test_ab$Rings)) # 测试集的错误率"
   ]
  },
  {
   "cell_type": "code",
   "execution_count": null,
   "metadata": {
    "vscode": {
     "languageId": "r"
    }
   },
   "outputs": [],
   "source": [
    "test_ab[, \"Diameter\"] <- NA\n",
    "test_ab[, \"Diameter\"] <- as.numeric(test_ab[, \"Diameter\"])\n",
    "s(test_ab)\n",
    "\n",
    "pred_te <- predict(ctab, test_ab, type = \"class\") # 测试集的预测值\n",
    "(error_test <- mean(pred_te != test_ab$Rings)) # 测试集的错误率"
   ]
  },
  {
   "cell_type": "code",
   "execution_count": null,
   "metadata": {
    "vscode": {
     "languageId": "r"
    }
   },
   "outputs": [],
   "source": [
    "test_ab[, \"LongestShell\"] <- NA\n",
    "test_ab[, \"LongestShell\"] <- as.numeric(test_ab[, \"LongestShell\"])\n",
    "s(test_ab)\n",
    "\n",
    "pred_te <- predict(ctab, test_ab, type = \"class\") # 测试集的预测值\n",
    "(error_test <- mean(pred_te != test_ab$Rings)) # 测试集的错误率"
   ]
  },
  {
   "cell_type": "code",
   "execution_count": null,
   "metadata": {
    "vscode": {
     "languageId": "r"
    }
   },
   "outputs": [],
   "source": [
    "test_ab[, \"VisceraWeight\"] <- NA\n",
    "test_ab[, \"VisceraWeight\"] <- as.numeric(test_ab[, \"VisceraWeight\"])\n",
    "s(test_ab)\n",
    "\n",
    "pred_te <- predict(ctab, test_ab, type = \"class\") # 测试集的预测值\n",
    "(error_test <- mean(pred_te != test_ab$Rings)) # 测试集的错误率"
   ]
  },
  {
   "cell_type": "code",
   "execution_count": null,
   "metadata": {
    "vscode": {
     "languageId": "r"
    }
   },
   "outputs": [],
   "source": [
    "test_ab[, \"ShuckedWeight\"] <- NA\n",
    "test_ab[, \"ShuckedWeight\"] <- as.numeric(test_ab[, \"ShuckedWeight\"])\n",
    "s(test_ab)\n",
    "\n",
    "pred_te <- predict(ctab, test_ab, type = \"class\") # 测试集的预测值\n",
    "(error_test <- mean(pred_te != test_ab$Rings)) # 测试集的错误率"
   ]
  },
  {
   "cell_type": "code",
   "execution_count": null,
   "metadata": {
    "vscode": {
     "languageId": "r"
    }
   },
   "outputs": [],
   "source": [
    "test_ab[, \"Height\"] <- NA\n",
    "test_ab[, \"Height\"] <- as.numeric(test_ab[, \"Height\"])\n",
    "s(test_ab)\n",
    "\n",
    "pred_te <- predict(ctab, test_ab, type = \"class\") # 测试集的预测值\n",
    "(error_test <- mean(pred_te != test_ab$Rings)) # 测试集的错误率"
   ]
  },
  {
   "cell_type": "code",
   "execution_count": null,
   "metadata": {
    "vscode": {
     "languageId": "r"
    }
   },
   "outputs": [],
   "source": [
    "test_ab[, \"Type\"] <- NA\n",
    "test_ab[, \"Type\"] <- as.character(test_ab[, \"Type\"])\n",
    "s(test_ab)\n",
    "\n",
    "pred_te <- predict(ctab, test_ab, type = \"class\") # 测试集的预测值\n",
    "(error_test <- mean(pred_te != test_ab$Rings)) # 测试集的错误率"
   ]
  },
  {
   "cell_type": "code",
   "execution_count": null,
   "metadata": {
    "vscode": {
     "languageId": "r"
    }
   },
   "outputs": [],
   "source": [
    "# 所有surrogate缺失，取大类\n",
    "1037 / (1052 + 1037)"
   ]
  },
  {
   "cell_type": "markdown",
   "metadata": {},
   "source": [
    "### 时间复杂度\n"
   ]
  },
  {
   "cell_type": "markdown",
   "metadata": {},
   "source": [
    "#### classification-特征全为类别值\n"
   ]
  },
  {
   "cell_type": "code",
   "execution_count": null,
   "metadata": {
    "tags": [],
    "vscode": {
     "languageId": "r"
    }
   },
   "outputs": [],
   "source": [
    "options(warn = -1) # 忽略一切警告\n",
    "options(\"width\" = 140) # 充分利用打印宽度\n",
    "options(repr.plot.width = 15, repr.plot.height = 10) # 满幅\n",
    "p_load(rpart)\n",
    "p_load(skimr)\n",
    "s <- skim_tee"
   ]
  },
  {
   "cell_type": "code",
   "execution_count": null,
   "metadata": {
    "tags": [],
    "vscode": {
     "languageId": "r"
    }
   },
   "outputs": [],
   "source": [
    "mr <- treemisc::mushroom\n",
    "s(mr)"
   ]
  },
  {
   "cell_type": "code",
   "execution_count": null,
   "metadata": {
    "vscode": {
     "languageId": "r"
    }
   },
   "outputs": [],
   "source": [
    "mr <- treemisc::mushroom\n",
    "\n",
    "N <- 10 # 数据规格数\n",
    "M <- 100 # 每种数据量实验次数\n",
    "rc <- matrix(-1, M, N) # 用于存储实验结果\n",
    "colnames(rc) <- as.character(1:N) # 每列对应于不同的数据规格\n",
    "nr <- nrow(mr)\n",
    "\n",
    "pb <- txtProgressBar(style = 3)\n",
    "for (n in 1:N) {\n",
    "  for (m in 1:M) {\n",
    "    set.seed(n * 1000 + m)\n",
    "    I <- sample(nr, (n * nr / N))\n",
    "    d <- mr[I, ]\n",
    "    timestart <- Sys.time()\n",
    "    rpart(Edibility ~ ., data = d, cp = 0)\n",
    "    rc[m, n] <- difftime(Sys.time(), timestart, units = \"secs\")\n",
    "  }\n",
    "  setTxtProgressBar(pb, n / N)\n",
    "}\n",
    "\n",
    "boxplot(rc, xlab = \"Each scale unit represents 10% examples\", ylab = \"time\")\n",
    "lines(colMeans(rc), type = \"o\", lwd = 2)\n",
    "grid()\n",
    "\n",
    "# 可见呈直线"
   ]
  },
  {
   "cell_type": "markdown",
   "metadata": {},
   "source": [
    "#### classification-特征全为连续值\n"
   ]
  },
  {
   "cell_type": "code",
   "execution_count": null,
   "metadata": {
    "tags": [],
    "vscode": {
     "languageId": "r"
    }
   },
   "outputs": [],
   "source": [
    "options(warn = -1) # 忽略一切警告\n",
    "options(\"width\" = 140) # 充分利用打印宽度\n",
    "options(repr.plot.width = 15, repr.plot.height = 10) # 满幅\n",
    "p_load(rpart)\n",
    "p_load(skimr)\n",
    "s <- skim_tee"
   ]
  },
  {
   "cell_type": "code",
   "execution_count": null,
   "metadata": {
    "tags": [],
    "vscode": {
     "languageId": "r"
    }
   },
   "outputs": [],
   "source": [
    "set.seed(943) # for reproducibility\n",
    "fr <- treemisc::gen_friedman1(1000, nx = 20, sigma = 0.1)\n",
    "fr$y <- factor(ifelse(fr$y < 14.2, 0, 1))\n",
    "s(fr)"
   ]
  },
  {
   "cell_type": "code",
   "execution_count": null,
   "metadata": {
    "vscode": {
     "languageId": "r"
    }
   },
   "outputs": [],
   "source": [
    "N <- 10 # 数据规格数\n",
    "M <- 100 # 每种数据量实验次数\n",
    "rc <- matrix(-1, M, N) # 用于存储实验结果\n",
    "colnames(rc) <- as.character(1:N) # 每列对应于不同的数据规格\n",
    "nr <- nrow(fr)\n",
    "\n",
    "pb <- txtProgressBar(style = 3)\n",
    "for (n in 1:N) {\n",
    "  for (m in 1:M) {\n",
    "    set.seed(n * 1000 + m)\n",
    "    I <- sample(nr, (n * nr / N))\n",
    "    d <- fr[I, ]\n",
    "    timestart <- Sys.time()\n",
    "    rpart(y ~ ., data = d, cp = 0)\n",
    "    rc[m, n] <- difftime(Sys.time(), timestart, units = \"secs\")\n",
    "  }\n",
    "  setTxtProgressBar(pb, n / N)\n",
    "}\n",
    "\n",
    "boxplot(rc, xlab = \"Each scale unit represents 10% examples\", ylab = \"time\")\n",
    "lines(colMeans(rc), type = \"o\", lwd = 2)\n",
    "grid()\n",
    "\n",
    "# 可见呈直线"
   ]
  },
  {
   "cell_type": "markdown",
   "metadata": {},
   "source": [
    "#### regression-特征全为连续值\n"
   ]
  },
  {
   "cell_type": "code",
   "execution_count": null,
   "metadata": {
    "tags": [],
    "vscode": {
     "languageId": "r"
    }
   },
   "outputs": [],
   "source": [
    "options(warn = -1) # 忽略一切警告\n",
    "options(\"width\" = 140) # 充分利用打印宽度\n",
    "options(repr.plot.width = 15, repr.plot.height = 10) # 满幅\n",
    "p_load(rpart)\n",
    "p_load(skimr)\n",
    "s <- skim_tee"
   ]
  },
  {
   "cell_type": "code",
   "execution_count": null,
   "metadata": {
    "tags": [],
    "vscode": {
     "languageId": "r"
    }
   },
   "outputs": [],
   "source": [
    "set.seed(943) # for reproducibility\n",
    "fr <- treemisc::gen_friedman1(1000, nx = 20, sigma = 0.1)\n",
    "s(fr)"
   ]
  },
  {
   "cell_type": "code",
   "execution_count": null,
   "metadata": {
    "vscode": {
     "languageId": "r"
    }
   },
   "outputs": [],
   "source": [
    "N <- 10 # 数据规格数\n",
    "M <- 100 # 每种数据量实验次数\n",
    "rc <- matrix(-1, M, N) # 用于存储实验结果\n",
    "colnames(rc) <- as.character(1:N) # 每列对应于不同的数据规格\n",
    "nr <- nrow(fr)\n",
    "\n",
    "pb <- txtProgressBar(style = 3)\n",
    "for (n in 1:N) {\n",
    "  for (m in 1:M) {\n",
    "    set.seed(n * 1000 + m)\n",
    "    I <- sample(nr, (n * nr / N))\n",
    "    d <- fr[I, ]\n",
    "    timestart <- Sys.time()\n",
    "    rpart(y ~ ., data = d, cp = 0)\n",
    "    rc[m, n] <- difftime(Sys.time(), timestart, units = \"secs\")\n",
    "  }\n",
    "  setTxtProgressBar(pb, n / N)\n",
    "}\n",
    "\n",
    "boxplot(rc, xlab = \"Each scale unit represents 10% examples\", ylab = \"time\")\n",
    "lines(colMeans(rc), type = \"o\", lwd = 2)\n",
    "grid()\n",
    "\n",
    "# 可见呈直线"
   ]
  }
 ],
 "metadata": {
  "kernelspec": {
   "display_name": "R",
   "language": "R",
   "name": "ir"
  },
  "language_info": {
   "codemirror_mode": "r",
   "file_extension": ".r",
   "mimetype": "text/x-r-source",
   "name": "R",
   "pygments_lexer": "r",
   "version": "4.4.1"
  },
  "widgets": {
   "application/vnd.jupyter.widget-state+json": {
    "state": {},
    "version_major": 2,
    "version_minor": 0
   }
  }
 },
 "nbformat": 4,
 "nbformat_minor": 4
}
