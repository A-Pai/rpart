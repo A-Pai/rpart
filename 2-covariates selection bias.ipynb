{
 "cells": [
  {
   "cell_type": "markdown",
   "id": "2e54925a-5c7c-4870-97e4-b1b085fb19ba",
   "metadata": {},
   "source": [
    "**验证、说明rpart算法倾向于选择类别取值多的特征**"
   ]
  },
  {
   "cell_type": "code",
   "execution_count": 1,
   "id": "b828f342-91c3-447c-aa46-6b5e75430516",
   "metadata": {},
   "outputs": [],
   "source": [
    "options(warn=-1)    #忽略一切警告\n",
    "options('width'=140)  #充分利用打印宽度\n",
    "options(repr.plot.width=15, repr.plot.height=10)  #满幅\n",
    "\n",
    "library(pacman)\n",
    "p_load(rpart)\n",
    "p_load(skimr)\n",
    "s <- skim_tee"
   ]
  },
  {
   "cell_type": "code",
   "execution_count": 2,
   "id": "9b63eada-8b65-42be-81d6-44a74907372a",
   "metadata": {},
   "outputs": [
    {
     "name": "stdout",
     "output_type": "stream",
     "text": [
      "  |==================================================================================================================================| 100%\n",
      "── Data Summary ────────────────────────\n",
      "                           Values\n",
      "Name                       data  \n",
      "Number of rows             500   \n",
      "Number of columns          7     \n",
      "_______________________          \n",
      "Column type frequency:           \n",
      "  factor                   7     \n",
      "________________________         \n",
      "Group variables            None  \n",
      "\n",
      "── Variable type: factor ───────────────────────────────────────────────────────────────────────────────────────────────────────────────────\n",
      "  skim_variable n_missing complete_rate ordered n_unique top_counts                \n",
      "\u001b[90m1\u001b[39m x1                    0             1 FALSE          2 0: 250, 1: 250            \n",
      "\u001b[90m2\u001b[39m x2                    0             1 FALSE         10 0: 50, 1: 50, 2: 50, 3: 50\n",
      "\u001b[90m3\u001b[39m x3                    0             1 FALSE         20 0: 25, 1: 25, 2: 25, 3: 25\n",
      "\u001b[90m4\u001b[39m x4                    0             1 FALSE         50 0: 10, 1: 10, 2: 10, 3: 10\n",
      "\u001b[90m5\u001b[39m x5                    0             1 FALSE        100 0: 5, 1: 5, 2: 5, 3: 5    \n",
      "\u001b[90m6\u001b[39m x6                    0             1 FALSE        250 0: 2, 1: 2, 2: 2, 3: 2    \n",
      "\u001b[90m7\u001b[39m y                     0             1 FALSE          2 0: 250, 1: 250            \n"
     ]
    }
   ],
   "source": [
    "n <- 1000 # number of experiment\n",
    "p1 <- p2 <- p3 <- p4 <- p5 <- p6 <- c()\n",
    "sp2 <- sp3 <- sp4 <- sp5 <- sp6 <- c()\n",
    "\n",
    "pb <- txtProgressBar(style = 3)\n",
    "# x1~6,y are independent of each other ,x与y相等\n",
    "for (i in 1:n) {\n",
    "  set.seed(i + n + 1)\n",
    "  x1 <- factor((sample(500) %% 2)) # 2种取值\n",
    "  set.seed(i + n + 2)\n",
    "  x2 <- factor((sample(500) %% 10)) # 10种取值\n",
    "  set.seed(i + n + 3)\n",
    "  x3 <- factor((sample(500) %% 20)) # 20种取值\n",
    "  set.seed(i + n + 4)\n",
    "  x4 <- factor((sample(500) %% 50)) # 50种取值\n",
    "  set.seed(i + n + 5)\n",
    "  x5 <- factor((sample(500) %% 100)) # 100种取值\n",
    "  set.seed(i + n + 6)\n",
    "  x6 <- factor((sample(500) %% 250)) # 500种取值\n",
    "  set.seed(i + n)\n",
    "  y <- factor((sample(500) %% 2))\n",
    "\n",
    "\n",
    "  # 独立性假设检验\n",
    "  p1 <- c(p1, chisq.test(table(x1, y), simulate.p.value = TRUE)$p.value)\n",
    "  p2 <- c(p2, chisq.test(table(x2, y), simulate.p.value = TRUE)$p.value)\n",
    "  p3 <- c(p3, chisq.test(table(x3, y), simulate.p.value = TRUE)$p.value)\n",
    "  p4 <- c(p4, chisq.test(table(x4, y), simulate.p.value = TRUE)$p.value)\n",
    "  p5 <- c(p5, chisq.test(table(x5, y), simulate.p.value = TRUE)$p.value)\n",
    "  p6 <- c(p6, chisq.test(table(x6, y), simulate.p.value = TRUE)$p.value)\n",
    "\n",
    "  dt2 <- data.frame(x1, x2, y)\n",
    "  dt3 <- data.frame(x1, x2, x3, y)\n",
    "  dt4 <- data.frame(x1, x2, x3, x4, y)\n",
    "  dt5 <- data.frame(x1, x2, x3, x4, x5, y)\n",
    "  dt6 <- data.frame(x1, x2, x3, x4, x5, x6, y)\n",
    "\n",
    "  crt2 <- rpart(y ~ ., data = dt2, method = \"class\", cp = 0)\n",
    "  crt3 <- rpart(y ~ ., data = dt3, method = \"class\", cp = 0)\n",
    "  crt4 <- rpart(y ~ ., data = dt4, method = \"class\", cp = 0)\n",
    "  crt5 <- rpart(y ~ ., data = dt5, method = \"class\", cp = 0)\n",
    "  crt6 <- rpart(y ~ ., data = dt6, method = \"class\", cp = 0)\n",
    "\n",
    "  sp2 <- c(sp2, rownames(crt2$splits)[1]) # rpart树的首选分枝特征\n",
    "  sp3 <- c(sp3, rownames(crt3$splits)[1]) # rpart树的首选分枝特征\n",
    "  sp4 <- c(sp4, rownames(crt4$splits)[1]) # rpart树的首选分枝特征\n",
    "  sp5 <- c(sp5, rownames(crt5$splits)[1]) # rpart树的首选分枝特征\n",
    "  sp6 <- c(sp6, rownames(crt6$splits)[1]) # rpart树的首选分枝特征\n",
    "\n",
    "  setTxtProgressBar(pb, i / n)\n",
    "}\n",
    "cat(\"\\n\")\n",
    "s(dt6)"
   ]
  },
  {
   "cell_type": "code",
   "execution_count": 3,
   "id": "cc75e0df-045e-4706-bd46-ed29681d7d32",
   "metadata": {},
   "outputs": [
    {
     "data": {
      "image/png": "[encoded data removed]",
      "text/plain": [
       "plot without title"
      ]
     },
     "metadata": {
      "image/png": {
       "height": 600,
       "width": 900
      }
     },
     "output_type": "display_data"
    }
   ],
   "source": [
    "boxplot(p1, p2, p3, p4, p5, p6) \n",
    "grid()\n",
    "# 可见x1~x6的p值都较大,不能拒绝x1~x6与y独立"
   ]
  },
  {
   "cell_type": "code",
   "execution_count": 4,
   "id": "20753999-a9cc-4d6e-b9e7-11e3ad02d9a9",
   "metadata": {},
   "outputs": [
    {
     "data": {
      "text/plain": [
       "sp2\n",
       "  x1   x2  Sum \n",
       "  35  965 1000 "
      ]
     },
     "metadata": {},
     "output_type": "display_data"
    },
    {
     "data": {
      "text/plain": [
       "sp3\n",
       "  x1   x2   x3  Sum \n",
       "   1  116  883 1000 "
      ]
     },
     "metadata": {},
     "output_type": "display_data"
    },
    {
     "data": {
      "text/plain": [
       "sp4\n",
       "  x3   x4  Sum \n",
       "   6  994 1000 "
      ]
     },
     "metadata": {},
     "output_type": "display_data"
    },
    {
     "data": {
      "text/plain": [
       "sp5\n",
       "  x4   x5  Sum \n",
       "   1  999 1000 "
      ]
     },
     "metadata": {},
     "output_type": "display_data"
    },
    {
     "data": {
      "text/plain": [
       "sp6\n",
       "  x6  Sum \n",
       "1000 1000 "
      ]
     },
     "metadata": {},
     "output_type": "display_data"
    }
   ],
   "source": [
    "# rpart选中作为根节点分枝的属性的次数\n",
    "addmargins(table(sp2)) \n",
    "addmargins(table(sp3)) \n",
    "addmargins(table(sp4)) \n",
    "addmargins(table(sp5)) \n",
    "addmargins(table(sp6)) \n",
    "#rpart倾向于选择了取值数最大的特征"
   ]
  },
  {
   "cell_type": "code",
   "execution_count": null,
   "id": "083d3fbe-a0e1-4a80-89af-542dede54ff2",
   "metadata": {},
   "outputs": [],
   "source": []
  }
 ],
 "metadata": {
  "kernelspec": {
   "display_name": "R",
   "language": "R",
   "name": "ir"
  },
  "language_info": {
   "codemirror_mode": "r",
   "file_extension": ".r",
   "mimetype": "text/x-r-source",
   "name": "R",
   "pygments_lexer": "r",
   "version": "4.3.2"
  }
 },
 "nbformat": 4,
 "nbformat_minor": 5
}
